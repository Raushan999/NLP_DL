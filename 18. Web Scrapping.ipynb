{
 "cells": [
  {
   "cell_type": "code",
   "execution_count": null,
   "id": "7910d5b3-d38b-4c79-a552-748517378099",
   "metadata": {},
   "outputs": [],
   "source": [
    "# pip install requests"
   ]
  },
  {
   "cell_type": "code",
   "execution_count": 3,
   "id": "59340ce1-403c-4f3a-a43b-eafacc88b2ab",
   "metadata": {},
   "outputs": [],
   "source": [
    "import requests"
   ]
  },
  {
   "cell_type": "code",
   "execution_count": 69,
   "id": "8cca470e-920b-4452-ae13-fcba888c167f",
   "metadata": {},
   "outputs": [],
   "source": [
    "url = \"https://indianexpress.com/article/political-pulse/local-corruption-vishwaguru-democracy-west-bengal-lok-sabha-election-9361811/\""
   ]
  },
  {
   "cell_type": "code",
   "execution_count": 70,
   "id": "2c9dd2ec-1180-40b3-b0de-82c171dc00ec",
   "metadata": {},
   "outputs": [],
   "source": [
    "try:\n",
    "    response = requests.get(url)\n",
    "except Exception as e:\n",
    "    print(f\"Error thrown:\\n {e}\")"
   ]
  },
  {
   "cell_type": "code",
   "execution_count": 71,
   "id": "8ce6347a-2fed-4ca5-b79f-c585bf4221bc",
   "metadata": {},
   "outputs": [
    {
     "data": {
      "text/plain": [
       "requests.models.Response"
      ]
     },
     "execution_count": 71,
     "metadata": {},
     "output_type": "execute_result"
    }
   ],
   "source": [
    "type(response)"
   ]
  },
  {
   "cell_type": "code",
   "execution_count": 72,
   "id": "a1e99795-bd33-442d-9cd4-1637b36faff1",
   "metadata": {
    "scrolled": true
   },
   "outputs": [
    {
     "data": {
      "text/plain": [
      ]
     },
     "execution_count": 72,
     "metadata": {},
     "output_type": "execute_result"
    }
   ],
   "source": [
    "content = response.content\n",
    "content"
   ]
  },
  {
   "cell_type": "code",
   "execution_count": 73,
   "id": "b78a830a-0a8a-49a5-90ca-e80499262a37",
   "metadata": {},
   "outputs": [],
   "source": [
    "# response.text"
   ]
  },
  {
   "cell_type": "code",
   "execution_count": 74,
   "id": "6e69d092-4703-4ae2-ac72-5e19840d3697",
   "metadata": {},
   "outputs": [],
   "source": [
    "# pip install beautifulsoup4"
   ]
  },
  {
   "cell_type": "code",
   "execution_count": 75,
   "id": "c7d9167e-2cab-4750-99d0-64b104b563e6",
   "metadata": {},
   "outputs": [],
   "source": [
    "from bs4 import BeautifulSoup"
   ]
  },
  {
   "cell_type": "code",
   "execution_count": 76,
   "id": "2bdc35da-a284-4c23-abe7-f949dc36575d",
   "metadata": {},
   "outputs": [],
   "source": [
    "soup = BeautifulSoup(response.content, 'html.parser')"
   ]
  },
  {
   "cell_type": "code",
   "execution_count": 131,
   "id": "696858eb-d0cb-4038-8e09-65a5ebaae3ac",
   "metadata": {},
   "outputs": [],
   "source": [
    "# soup"
   ]
  },
  {
   "cell_type": "code",
   "execution_count": 109,
   "id": "1ea9a4cd-e78f-4999-82c7-db49f5494495",
   "metadata": {},
   "outputs": [],
   "source": [
    "title = soup.find('h1')"
   ]
  },
  {
   "cell_type": "code",
   "execution_count": 110,
   "id": "638a2e27-7910-4905-bd48-40f07e30d752",
   "metadata": {},
   "outputs": [
    {
     "data": {
      "text/plain": [
       "'Local corruption trumps ‘Vishwaguru’, ‘democracy in danger’ on Bengal poll street'"
      ]
     },
     "execution_count": 110,
     "metadata": {},
     "output_type": "execute_result"
    }
   ],
   "source": [
    "title.text"
   ]
  },
  {
   "cell_type": "code",
   "execution_count": 111,
   "id": "db85ad07-c9c2-4b59-9e64-7517a769dfc0",
   "metadata": {},
   "outputs": [
    {
     "data": {
      "text/plain": [
       "\"'Pakistan ko tight kiya (Pakistan has been taught a lesson), that is something people here feel good about. Not much more'\""
      ]
     },
     "execution_count": 111,
     "metadata": {},
     "output_type": "execute_result"
    }
   ],
   "source": [
    "sub_head = soup.find('h2')\n",
    "sub_head.text"
   ]
  },
  {
   "cell_type": "code",
   "execution_count": 149,
   "id": "7a44b515-9f6b-4a53-bee4-9529c8fbe456",
   "metadata": {},
   "outputs": [],
   "source": [
    "story_details = soup.find(class_ = \"story_details\")\n",
    "all_para = story_details.find_all('p')"
   ]
  },
  {
   "cell_type": "code",
   "execution_count": 151,
   "id": "0f7bdd35-7aa6-4e58-b567-04b8838f0250",
   "metadata": {},
   "outputs": [],
   "source": [
    "all_para = [i.text for i in all_para]"
   ]
  },
  {
   "cell_type": "code",
   "execution_count": 156,
   "id": "3d8c4031-1c50-4e52-b49d-020489ca0e5d",
   "metadata": {},
   "outputs": [
    {
     "data": {
      "text/plain": [
       "'Aparajita Ghosh, an HR professional in a French multinational firm, who shuttles between Kolkata and Bangalore, is back in Serampore to cast her vote. Sipping cold coffee at Danish Tavern, the neat little cafe perhaps the only reminder of this Bengal area’s old colonial links to Denmark, she hasn’t warmed up to the BJP’s Vishwaguru campaign. Prime Minister Narendra Modi’s foreign trips are a drain on the exchequer and don’t add to much, she says.'"
      ]
     },
     "execution_count": 156,
     "metadata": {},
     "output_type": "execute_result"
    }
   ],
   "source": [
    "all_para[0]"
   ]
  },
  {
   "cell_type": "code",
   "execution_count": 159,
   "id": "0d7b1920-0a38-4238-a320-d9c95c6fca7b",
   "metadata": {},
   "outputs": [],
   "source": [
    "# all code:\n",
    "import requests\n",
    "url2 = 'https://indianexpress.com/article/political-pulse/local-corruption-vishwaguru-democracy-west-bengal-lok-sabha-election-9361811/'\n",
    "response = requests.get(url2)\n",
    "# import Beautifulsoup4\n",
    "from bs4 import BeautifulSoup\n",
    "soup = BeautifulSoup(response.content, 'html.parser')"
   ]
  },
  {
   "cell_type": "code",
   "execution_count": 170,
   "id": "970c57ea-116e-4938-aea5-a96993046cf9",
   "metadata": {},
   "outputs": [],
   "source": [
    "full_details = soup.find(class_ = 'full-details')\n",
    "full_details = [i.text for i in full_details.find_all('p')]\n",
    "p1 = full_details[0]"
   ]
  },
  {
   "cell_type": "code",
   "execution_count": null,
   "id": "75930417-6c4e-429d-a1f4-1a4674215e5a",
   "metadata": {},
   "outputs": [],
   "source": []
  },
  {
   "cell_type": "code",
   "execution_count": null,
   "id": "c4d96327-4e18-430a-9003-7ea92cdcc9d1",
   "metadata": {},
   "outputs": [],
   "source": []
  }
 ],
 "metadata": {
  "kernelspec": {
   "display_name": "test_venv",
   "language": "python",
   "name": "test_venv"
  },
  "language_info": {
   "codemirror_mode": {
    "name": "ipython",
    "version": 3
   },
   "file_extension": ".py",
   "mimetype": "text/x-python",
   "name": "python",
   "nbconvert_exporter": "python",
   "pygments_lexer": "ipython3",
   "version": "3.12.2"
  }
 },
 "nbformat": 4,
 "nbformat_minor": 5
}
