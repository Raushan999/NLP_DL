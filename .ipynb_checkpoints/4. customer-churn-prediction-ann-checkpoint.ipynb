{
 "cells": [
  {
   "cell_type": "code",
   "execution_count": 1,
   "id": "9982946c",
   "metadata": {
    "_cell_guid": "b1076dfc-b9ad-4769-8c92-a6c4dae69d19",
    "_uuid": "8f2839f25d086af736a60e9eeb907d3b93b6e0e5",
    "execution": {
     "iopub.execute_input": "2024-05-13T16:47:37.881514Z",
     "iopub.status.busy": "2024-05-13T16:47:37.881119Z",
     "iopub.status.idle": "2024-05-13T16:47:40.521696Z",
     "shell.execute_reply": "2024-05-13T16:47:40.520240Z"
    },
    "papermill": {
     "duration": 2.662687,
     "end_time": "2024-05-13T16:47:40.524741",
     "exception": false,
     "start_time": "2024-05-13T16:47:37.862054",
     "status": "completed"
    },
    "tags": []
   },
   "outputs": [],
   "source": [
    "import numpy as np # linear algebra\n",
    "import pandas as pd # data processing, CSV file I/O (e.g. pd.read_csv)\n",
    "import matplotlib.pyplot as plt\n",
    "%matplotlib inline\n",
    "import seaborn as sns\n",
    "import warnings\n",
    "warnings.filterwarnings('ignore')"
   ]
  },
  {
   "cell_type": "code",
   "execution_count": 2,
   "id": "ca284e9f",
   "metadata": {
    "execution": {
     "iopub.execute_input": "2024-05-13T16:47:40.561243Z",
     "iopub.status.busy": "2024-05-13T16:47:40.560682Z",
     "iopub.status.idle": "2024-05-13T16:47:40.616095Z",
     "shell.execute_reply": "2024-05-13T16:47:40.615100Z"
    },
    "papermill": {
     "duration": 0.076502,
     "end_time": "2024-05-13T16:47:40.618706",
     "exception": false,
     "start_time": "2024-05-13T16:47:40.542204",
     "status": "completed"
    },
    "tags": []
   },
   "outputs": [],
   "source": [
    "df = pd.read_csv('/kaggle/input/credit-card-customer-churn-prediction/Churn_Modelling.csv')"
   ]
  },
  {
   "cell_type": "code",
   "execution_count": 3,
   "id": "668408b6",
   "metadata": {
    "execution": {
     "iopub.execute_input": "2024-05-13T16:47:40.655780Z",
     "iopub.status.busy": "2024-05-13T16:47:40.654995Z",
     "iopub.status.idle": "2024-05-13T16:47:40.685467Z",
     "shell.execute_reply": "2024-05-13T16:47:40.683742Z"
    },
    "papermill": {
     "duration": 0.053003,
     "end_time": "2024-05-13T16:47:40.688754",
     "exception": false,
     "start_time": "2024-05-13T16:47:40.635751",
     "status": "completed"
    },
    "tags": []
   },
   "outputs": [
    {
     "data": {
      "text/html": [
       "<div>\n",
       "<style scoped>\n",
       "    .dataframe tbody tr th:only-of-type {\n",
       "        vertical-align: middle;\n",
       "    }\n",
       "\n",
       "    .dataframe tbody tr th {\n",
       "        vertical-align: top;\n",
       "    }\n",
       "\n",
       "    .dataframe thead th {\n",
       "        text-align: right;\n",
       "    }\n",
       "</style>\n",
       "<table border=\"1\" class=\"dataframe\">\n",
       "  <thead>\n",
       "    <tr style=\"text-align: right;\">\n",
       "      <th></th>\n",
       "      <th>RowNumber</th>\n",
       "      <th>CustomerId</th>\n",
       "      <th>Surname</th>\n",
       "      <th>CreditScore</th>\n",
       "      <th>Geography</th>\n",
       "      <th>Gender</th>\n",
       "      <th>Age</th>\n",
       "      <th>Tenure</th>\n",
       "      <th>Balance</th>\n",
       "      <th>NumOfProducts</th>\n",
       "      <th>HasCrCard</th>\n",
       "      <th>IsActiveMember</th>\n",
       "      <th>EstimatedSalary</th>\n",
       "      <th>Exited</th>\n",
       "    </tr>\n",
       "  </thead>\n",
       "  <tbody>\n",
       "    <tr>\n",
       "      <th>0</th>\n",
       "      <td>1</td>\n",
       "      <td>15634602</td>\n",
       "      <td>Hargrave</td>\n",
       "      <td>619</td>\n",
       "      <td>France</td>\n",
       "      <td>Female</td>\n",
       "      <td>42</td>\n",
       "      <td>2</td>\n",
       "      <td>0.00</td>\n",
       "      <td>1</td>\n",
       "      <td>1</td>\n",
       "      <td>1</td>\n",
       "      <td>101348.88</td>\n",
       "      <td>1</td>\n",
       "    </tr>\n",
       "    <tr>\n",
       "      <th>1</th>\n",
       "      <td>2</td>\n",
       "      <td>15647311</td>\n",
       "      <td>Hill</td>\n",
       "      <td>608</td>\n",
       "      <td>Spain</td>\n",
       "      <td>Female</td>\n",
       "      <td>41</td>\n",
       "      <td>1</td>\n",
       "      <td>83807.86</td>\n",
       "      <td>1</td>\n",
       "      <td>0</td>\n",
       "      <td>1</td>\n",
       "      <td>112542.58</td>\n",
       "      <td>0</td>\n",
       "    </tr>\n",
       "    <tr>\n",
       "      <th>2</th>\n",
       "      <td>3</td>\n",
       "      <td>15619304</td>\n",
       "      <td>Onio</td>\n",
       "      <td>502</td>\n",
       "      <td>France</td>\n",
       "      <td>Female</td>\n",
       "      <td>42</td>\n",
       "      <td>8</td>\n",
       "      <td>159660.80</td>\n",
       "      <td>3</td>\n",
       "      <td>1</td>\n",
       "      <td>0</td>\n",
       "      <td>113931.57</td>\n",
       "      <td>1</td>\n",
       "    </tr>\n",
       "  </tbody>\n",
       "</table>\n",
       "</div>"
      ],
      "text/plain": [
       "   RowNumber  CustomerId   Surname  CreditScore Geography  Gender  Age  \\\n",
       "0          1    15634602  Hargrave          619    France  Female   42   \n",
       "1          2    15647311      Hill          608     Spain  Female   41   \n",
       "2          3    15619304      Onio          502    France  Female   42   \n",
       "\n",
       "   Tenure    Balance  NumOfProducts  HasCrCard  IsActiveMember  \\\n",
       "0       2       0.00              1          1               1   \n",
       "1       1   83807.86              1          0               1   \n",
       "2       8  159660.80              3          1               0   \n",
       "\n",
       "   EstimatedSalary  Exited  \n",
       "0        101348.88       1  \n",
       "1        112542.58       0  \n",
       "2        113931.57       1  "
      ]
     },
     "execution_count": 3,
     "metadata": {},
     "output_type": "execute_result"
    }
   ],
   "source": [
    "df.head(3)"
   ]
  },
  {
   "cell_type": "code",
   "execution_count": 4,
   "id": "2a025b14",
   "metadata": {
    "execution": {
     "iopub.execute_input": "2024-05-13T16:47:40.727996Z",
     "iopub.status.busy": "2024-05-13T16:47:40.727540Z",
     "iopub.status.idle": "2024-05-13T16:47:40.736175Z",
     "shell.execute_reply": "2024-05-13T16:47:40.734206Z"
    },
    "papermill": {
     "duration": 0.031244,
     "end_time": "2024-05-13T16:47:40.739158",
     "exception": false,
     "start_time": "2024-05-13T16:47:40.707914",
     "status": "completed"
    },
    "tags": []
   },
   "outputs": [
    {
     "data": {
      "text/plain": [
       "(10000, 14)"
      ]
     },
     "execution_count": 4,
     "metadata": {},
     "output_type": "execute_result"
    }
   ],
   "source": [
    "df.shape"
   ]
  },
  {
   "cell_type": "code",
   "execution_count": 5,
   "id": "382de699",
   "metadata": {
    "execution": {
     "iopub.execute_input": "2024-05-13T16:47:40.777818Z",
     "iopub.status.busy": "2024-05-13T16:47:40.777430Z",
     "iopub.status.idle": "2024-05-13T16:47:40.811996Z",
     "shell.execute_reply": "2024-05-13T16:47:40.810912Z"
    },
    "papermill": {
     "duration": 0.05665,
     "end_time": "2024-05-13T16:47:40.814288",
     "exception": false,
     "start_time": "2024-05-13T16:47:40.757638",
     "status": "completed"
    },
    "tags": []
   },
   "outputs": [
    {
     "name": "stdout",
     "output_type": "stream",
     "text": [
      "<class 'pandas.core.frame.DataFrame'>\n",
      "RangeIndex: 10000 entries, 0 to 9999\n",
      "Data columns (total 14 columns):\n",
      " #   Column           Non-Null Count  Dtype  \n",
      "---  ------           --------------  -----  \n",
      " 0   RowNumber        10000 non-null  int64  \n",
      " 1   CustomerId       10000 non-null  int64  \n",
      " 2   Surname          10000 non-null  object \n",
      " 3   CreditScore      10000 non-null  int64  \n",
      " 4   Geography        10000 non-null  object \n",
      " 5   Gender           10000 non-null  object \n",
      " 6   Age              10000 non-null  int64  \n",
      " 7   Tenure           10000 non-null  int64  \n",
      " 8   Balance          10000 non-null  float64\n",
      " 9   NumOfProducts    10000 non-null  int64  \n",
      " 10  HasCrCard        10000 non-null  int64  \n",
      " 11  IsActiveMember   10000 non-null  int64  \n",
      " 12  EstimatedSalary  10000 non-null  float64\n",
      " 13  Exited           10000 non-null  int64  \n",
      "dtypes: float64(2), int64(9), object(3)\n",
      "memory usage: 1.1+ MB\n"
     ]
    }
   ],
   "source": [
    "df.info()"
   ]
  },
  {
   "cell_type": "markdown",
   "id": "b881d316",
   "metadata": {
    "papermill": {
     "duration": 0.016934,
     "end_time": "2024-05-13T16:47:40.848435",
     "exception": false,
     "start_time": "2024-05-13T16:47:40.831501",
     "status": "completed"
    },
    "tags": []
   },
   "source": [
    "# Exploratory Data Analysis (EDA)"
   ]
  },
  {
   "cell_type": "markdown",
   "id": "4d1048b8",
   "metadata": {
    "papermill": {
     "duration": 0.016823,
     "end_time": "2024-05-13T16:47:40.882691",
     "exception": false,
     "start_time": "2024-05-13T16:47:40.865868",
     "status": "completed"
    },
    "tags": []
   },
   "source": []
  },
  {
   "cell_type": "code",
   "execution_count": 6,
   "id": "35604ecb",
   "metadata": {
    "execution": {
     "iopub.execute_input": "2024-05-13T16:47:40.920758Z",
     "iopub.status.busy": "2024-05-13T16:47:40.919986Z",
     "iopub.status.idle": "2024-05-13T16:47:40.935440Z",
     "shell.execute_reply": "2024-05-13T16:47:40.934137Z"
    },
    "papermill": {
     "duration": 0.037889,
     "end_time": "2024-05-13T16:47:40.938248",
     "exception": false,
     "start_time": "2024-05-13T16:47:40.900359",
     "status": "completed"
    },
    "tags": []
   },
   "outputs": [
    {
     "data": {
      "text/plain": [
       "0"
      ]
     },
     "execution_count": 6,
     "metadata": {},
     "output_type": "execute_result"
    }
   ],
   "source": [
    "# duplicated rows\n",
    "df.duplicated().sum()"
   ]
  },
  {
   "cell_type": "code",
   "execution_count": 7,
   "id": "ea9b59c9",
   "metadata": {
    "execution": {
     "iopub.execute_input": "2024-05-13T16:47:40.974879Z",
     "iopub.status.busy": "2024-05-13T16:47:40.974419Z",
     "iopub.status.idle": "2024-05-13T16:47:40.986939Z",
     "shell.execute_reply": "2024-05-13T16:47:40.985929Z"
    },
    "papermill": {
     "duration": 0.033481,
     "end_time": "2024-05-13T16:47:40.989169",
     "exception": false,
     "start_time": "2024-05-13T16:47:40.955688",
     "status": "completed"
    },
    "tags": []
   },
   "outputs": [
    {
     "data": {
      "text/plain": [
       "RowNumber          0\n",
       "CustomerId         0\n",
       "Surname            0\n",
       "CreditScore        0\n",
       "Geography          0\n",
       "Gender             0\n",
       "Age                0\n",
       "Tenure             0\n",
       "Balance            0\n",
       "NumOfProducts      0\n",
       "HasCrCard          0\n",
       "IsActiveMember     0\n",
       "EstimatedSalary    0\n",
       "Exited             0\n",
       "dtype: int64"
      ]
     },
     "execution_count": 7,
     "metadata": {},
     "output_type": "execute_result"
    }
   ],
   "source": [
    "# missing values in any columns.\n",
    "df.isnull().sum()"
   ]
  },
  {
   "cell_type": "code",
   "execution_count": 8,
   "id": "ec816464",
   "metadata": {
    "execution": {
     "iopub.execute_input": "2024-05-13T16:47:41.026055Z",
     "iopub.status.busy": "2024-05-13T16:47:41.025640Z",
     "iopub.status.idle": "2024-05-13T16:47:41.035355Z",
     "shell.execute_reply": "2024-05-13T16:47:41.034171Z"
    },
    "papermill": {
     "duration": 0.031459,
     "end_time": "2024-05-13T16:47:41.038009",
     "exception": false,
     "start_time": "2024-05-13T16:47:41.006550",
     "status": "completed"
    },
    "tags": []
   },
   "outputs": [
    {
     "data": {
      "text/plain": [
       "Geography\n",
       "France     5014\n",
       "Germany    2509\n",
       "Spain      2477\n",
       "Name: count, dtype: int64"
      ]
     },
     "execution_count": 8,
     "metadata": {},
     "output_type": "execute_result"
    }
   ],
   "source": [
    "# getting the values count in different categorical features.\n",
    "df['Geography'].value_counts()"
   ]
  },
  {
   "cell_type": "markdown",
   "id": "8f34f17b",
   "metadata": {
    "papermill": {
     "duration": 0.017336,
     "end_time": "2024-05-13T16:47:41.073048",
     "exception": false,
     "start_time": "2024-05-13T16:47:41.055712",
     "status": "completed"
    },
    "tags": []
   },
   "source": [
    "##### Imbalance towards `France`"
   ]
  },
  {
   "cell_type": "code",
   "execution_count": 9,
   "id": "ff7c2456",
   "metadata": {
    "execution": {
     "iopub.execute_input": "2024-05-13T16:47:41.110784Z",
     "iopub.status.busy": "2024-05-13T16:47:41.109700Z",
     "iopub.status.idle": "2024-05-13T16:47:41.120461Z",
     "shell.execute_reply": "2024-05-13T16:47:41.119250Z"
    },
    "papermill": {
     "duration": 0.032558,
     "end_time": "2024-05-13T16:47:41.123162",
     "exception": false,
     "start_time": "2024-05-13T16:47:41.090604",
     "status": "completed"
    },
    "tags": []
   },
   "outputs": [
    {
     "data": {
      "text/plain": [
       "Gender\n",
       "Male      5457\n",
       "Female    4543\n",
       "Name: count, dtype: int64"
      ]
     },
     "execution_count": 9,
     "metadata": {},
     "output_type": "execute_result"
    }
   ],
   "source": [
    "df['Gender'].value_counts()"
   ]
  },
  {
   "cell_type": "markdown",
   "id": "cda9cdca",
   "metadata": {
    "papermill": {
     "duration": 0.017863,
     "end_time": "2024-05-13T16:47:41.160325",
     "exception": false,
     "start_time": "2024-05-13T16:47:41.142462",
     "status": "completed"
    },
    "tags": []
   },
   "source": [
    "### not imbalance"
   ]
  },
  {
   "cell_type": "code",
   "execution_count": 10,
   "id": "363917b8",
   "metadata": {
    "execution": {
     "iopub.execute_input": "2024-05-13T16:47:41.198295Z",
     "iopub.status.busy": "2024-05-13T16:47:41.197896Z",
     "iopub.status.idle": "2024-05-13T16:47:41.208671Z",
     "shell.execute_reply": "2024-05-13T16:47:41.207781Z"
    },
    "papermill": {
     "duration": 0.032523,
     "end_time": "2024-05-13T16:47:41.211245",
     "exception": false,
     "start_time": "2024-05-13T16:47:41.178722",
     "status": "completed"
    },
    "tags": []
   },
   "outputs": [
    {
     "data": {
      "text/plain": [
       "HasCrCard\n",
       "1    7055\n",
       "0    2945\n",
       "Name: count, dtype: int64"
      ]
     },
     "execution_count": 10,
     "metadata": {},
     "output_type": "execute_result"
    }
   ],
   "source": [
    "df['HasCrCard'].value_counts()"
   ]
  },
  {
   "cell_type": "markdown",
   "id": "7fb068c7",
   "metadata": {
    "papermill": {
     "duration": 0.019368,
     "end_time": "2024-05-13T16:47:41.250043",
     "exception": false,
     "start_time": "2024-05-13T16:47:41.230675",
     "status": "completed"
    },
    "tags": []
   },
   "source": [
    "#### Imbalanced towards `1` class"
   ]
  },
  {
   "cell_type": "code",
   "execution_count": 11,
   "id": "303781d3",
   "metadata": {
    "execution": {
     "iopub.execute_input": "2024-05-13T16:47:41.288508Z",
     "iopub.status.busy": "2024-05-13T16:47:41.287459Z",
     "iopub.status.idle": "2024-05-13T16:47:41.296356Z",
     "shell.execute_reply": "2024-05-13T16:47:41.295214Z"
    },
    "papermill": {
     "duration": 0.030593,
     "end_time": "2024-05-13T16:47:41.298712",
     "exception": false,
     "start_time": "2024-05-13T16:47:41.268119",
     "status": "completed"
    },
    "tags": []
   },
   "outputs": [
    {
     "data": {
      "text/plain": [
       "IsActiveMember\n",
       "1    5151\n",
       "0    4849\n",
       "Name: count, dtype: int64"
      ]
     },
     "execution_count": 11,
     "metadata": {},
     "output_type": "execute_result"
    }
   ],
   "source": [
    "df['IsActiveMember'].value_counts()"
   ]
  },
  {
   "cell_type": "code",
   "execution_count": 12,
   "id": "45977914",
   "metadata": {
    "execution": {
     "iopub.execute_input": "2024-05-13T16:47:41.336774Z",
     "iopub.status.busy": "2024-05-13T16:47:41.336376Z",
     "iopub.status.idle": "2024-05-13T16:47:41.345430Z",
     "shell.execute_reply": "2024-05-13T16:47:41.344269Z"
    },
    "papermill": {
     "duration": 0.031334,
     "end_time": "2024-05-13T16:47:41.348078",
     "exception": false,
     "start_time": "2024-05-13T16:47:41.316744",
     "status": "completed"
    },
    "tags": []
   },
   "outputs": [
    {
     "data": {
      "text/plain": [
       "Exited\n",
       "0    7963\n",
       "1    2037\n",
       "Name: count, dtype: int64"
      ]
     },
     "execution_count": 12,
     "metadata": {},
     "output_type": "execute_result"
    }
   ],
   "source": [
    "df['Exited'].value_counts()"
   ]
  },
  {
   "cell_type": "markdown",
   "id": "80f87a56",
   "metadata": {
    "papermill": {
     "duration": 0.017882,
     "end_time": "2024-05-13T16:47:41.384396",
     "exception": false,
     "start_time": "2024-05-13T16:47:41.366514",
     "status": "completed"
    },
    "tags": []
   },
   "source": [
    "### Imbalaced target  feature"
   ]
  },
  {
   "cell_type": "markdown",
   "id": "d5777d30",
   "metadata": {
    "papermill": {
     "duration": 0.01863,
     "end_time": "2024-05-13T16:47:41.421251",
     "exception": false,
     "start_time": "2024-05-13T16:47:41.402621",
     "status": "completed"
    },
    "tags": []
   },
   "source": [
    "## Lets get rid of irrelevant columns"
   ]
  },
  {
   "cell_type": "code",
   "execution_count": 13,
   "id": "11512ca3",
   "metadata": {
    "execution": {
     "iopub.execute_input": "2024-05-13T16:47:41.460158Z",
     "iopub.status.busy": "2024-05-13T16:47:41.459712Z",
     "iopub.status.idle": "2024-05-13T16:47:41.475787Z",
     "shell.execute_reply": "2024-05-13T16:47:41.474540Z"
    },
    "papermill": {
     "duration": 0.038577,
     "end_time": "2024-05-13T16:47:41.478473",
     "exception": false,
     "start_time": "2024-05-13T16:47:41.439896",
     "status": "completed"
    },
    "tags": []
   },
   "outputs": [
    {
     "data": {
      "text/html": [
       "<div>\n",
       "<style scoped>\n",
       "    .dataframe tbody tr th:only-of-type {\n",
       "        vertical-align: middle;\n",
       "    }\n",
       "\n",
       "    .dataframe tbody tr th {\n",
       "        vertical-align: top;\n",
       "    }\n",
       "\n",
       "    .dataframe thead th {\n",
       "        text-align: right;\n",
       "    }\n",
       "</style>\n",
       "<table border=\"1\" class=\"dataframe\">\n",
       "  <thead>\n",
       "    <tr style=\"text-align: right;\">\n",
       "      <th></th>\n",
       "      <th>RowNumber</th>\n",
       "      <th>CustomerId</th>\n",
       "      <th>Surname</th>\n",
       "      <th>CreditScore</th>\n",
       "      <th>Geography</th>\n",
       "      <th>Gender</th>\n",
       "      <th>Age</th>\n",
       "      <th>Tenure</th>\n",
       "      <th>Balance</th>\n",
       "      <th>NumOfProducts</th>\n",
       "      <th>HasCrCard</th>\n",
       "      <th>IsActiveMember</th>\n",
       "      <th>EstimatedSalary</th>\n",
       "      <th>Exited</th>\n",
       "    </tr>\n",
       "  </thead>\n",
       "  <tbody>\n",
       "    <tr>\n",
       "      <th>0</th>\n",
       "      <td>1</td>\n",
       "      <td>15634602</td>\n",
       "      <td>Hargrave</td>\n",
       "      <td>619</td>\n",
       "      <td>France</td>\n",
       "      <td>Female</td>\n",
       "      <td>42</td>\n",
       "      <td>2</td>\n",
       "      <td>0.0</td>\n",
       "      <td>1</td>\n",
       "      <td>1</td>\n",
       "      <td>1</td>\n",
       "      <td>101348.88</td>\n",
       "      <td>1</td>\n",
       "    </tr>\n",
       "  </tbody>\n",
       "</table>\n",
       "</div>"
      ],
      "text/plain": [
       "   RowNumber  CustomerId   Surname  CreditScore Geography  Gender  Age  \\\n",
       "0          1    15634602  Hargrave          619    France  Female   42   \n",
       "\n",
       "   Tenure  Balance  NumOfProducts  HasCrCard  IsActiveMember  EstimatedSalary  \\\n",
       "0       2      0.0              1          1               1        101348.88   \n",
       "\n",
       "   Exited  \n",
       "0       1  "
      ]
     },
     "execution_count": 13,
     "metadata": {},
     "output_type": "execute_result"
    }
   ],
   "source": [
    "df.head(1)"
   ]
  },
  {
   "cell_type": "code",
   "execution_count": 14,
   "id": "795bcb58",
   "metadata": {
    "execution": {
     "iopub.execute_input": "2024-05-13T16:47:41.518214Z",
     "iopub.status.busy": "2024-05-13T16:47:41.517480Z",
     "iopub.status.idle": "2024-05-13T16:47:41.527468Z",
     "shell.execute_reply": "2024-05-13T16:47:41.526495Z"
    },
    "papermill": {
     "duration": 0.032422,
     "end_time": "2024-05-13T16:47:41.529935",
     "exception": false,
     "start_time": "2024-05-13T16:47:41.497513",
     "status": "completed"
    },
    "tags": []
   },
   "outputs": [],
   "source": [
    "df.drop(columns = ['RowNumber','CustomerId','Surname'], inplace = True)"
   ]
  },
  {
   "cell_type": "markdown",
   "id": "78d9c551",
   "metadata": {
    "papermill": {
     "duration": 0.019303,
     "end_time": "2024-05-13T16:47:41.631690",
     "exception": false,
     "start_time": "2024-05-13T16:47:41.612387",
     "status": "completed"
    },
    "tags": []
   },
   "source": [
    "* ###  Visualization of the categorical features against the target feature\n"
   ]
  },
  {
   "cell_type": "code",
   "execution_count": 15,
   "id": "3ae0c5d7",
   "metadata": {
    "execution": {
     "iopub.execute_input": "2024-05-13T16:47:41.671983Z",
     "iopub.status.busy": "2024-05-13T16:47:41.671529Z",
     "iopub.status.idle": "2024-05-13T16:47:43.420612Z",
     "shell.execute_reply": "2024-05-13T16:47:43.419445Z"
    },
    "papermill": {
     "duration": 1.772624,
     "end_time": "2024-05-13T16:47:43.424012",
     "exception": false,
     "start_time": "2024-05-13T16:47:41.651388",
     "status": "completed"
    },
    "tags": []
   },
   "outputs": [
    {
     "data": {
      "image/png": "[encoded data removed]",
      "text/plain": [
       "<Figure size 1800x1500 with 6 Axes>"
      ]
     },
     "metadata": {},
     "output_type": "display_data"
    }
   ],
   "source": [
    "\n",
    "\n",
    "fig, ax = plt.subplots(3, 2, figsize = (18, 15))\n",
    "\n",
    "sns.countplot(data = df, x = 'Geography', hue = 'Exited', ax = ax[0][0])\n",
    "sns.countplot(data = df, x ='Gender', hue = 'Exited',  ax = ax[0][1])\n",
    "sns.countplot(data = df, x ='Tenure', hue = 'Exited',  ax = ax[1][0])\n",
    "sns.countplot( data = df, x ='NumOfProducts', hue = 'Exited', ax = ax[1][1])\n",
    "sns.countplot(data = df, x ='HasCrCard', hue = 'Exited',  ax = ax[2][0])\n",
    "sns.countplot( data = df, x ='IsActiveMember', hue = 'Exited', ax = ax[2][1])\n",
    "\n",
    "plt.tight_layout()\n",
    "plt.show()"
   ]
  },
  {
   "cell_type": "markdown",
   "id": "969053c8",
   "metadata": {
    "papermill": {
     "duration": 0.022272,
     "end_time": "2024-05-13T16:47:43.467068",
     "exception": false,
     "start_time": "2024-05-13T16:47:43.444796",
     "status": "completed"
    },
    "tags": []
   },
   "source": [
    "## Insights:\n",
    "* For most of the features we can see that the chances of leaving the credit card is comparatively higher than not leaving\n",
    "* HasCrCard:- One with active card has higher probability of churing.\n",
    "* noOfProduct:- Most of the churn is seen for customers having `1` product.\n",
    "* Gender:- churing number is almost same for male and female, but the proportion of higher among the females.\n",
    "* Geography:- Lesser churn rate is seen in `France` as compared to other areas."
   ]
  },
  {
   "cell_type": "markdown",
   "id": "f9bacec1",
   "metadata": {
    "papermill": {
     "duration": 0.020217,
     "end_time": "2024-05-13T16:47:43.509772",
     "exception": false,
     "start_time": "2024-05-13T16:47:43.489555",
     "status": "completed"
    },
    "tags": []
   },
   "source": [
    "# BOX-Plots for the continous features::"
   ]
  },
  {
   "cell_type": "code",
   "execution_count": 16,
   "id": "025192c6",
   "metadata": {
    "execution": {
     "iopub.execute_input": "2024-05-13T16:47:43.555097Z",
     "iopub.status.busy": "2024-05-13T16:47:43.553846Z",
     "iopub.status.idle": "2024-05-13T16:47:44.394930Z",
     "shell.execute_reply": "2024-05-13T16:47:44.393721Z"
    },
    "papermill": {
     "duration": 0.867541,
     "end_time": "2024-05-13T16:47:44.397820",
     "exception": false,
     "start_time": "2024-05-13T16:47:43.530279",
     "status": "completed"
    },
    "tags": []
   },
   "outputs": [
    {
     "data": {
      "image/png": "[encoded data removed]",
      "text/plain": [
       "<Figure size 1600x1000 with 4 Axes>"
      ]
     },
     "metadata": {},
     "output_type": "display_data"
    }
   ],
   "source": [
    "fig, ax = plt.subplots(2, 2, figsize = (16, 10))\n",
    "\n",
    "sns.boxplot(data = df, x = 'Exited', y = 'CreditScore', ax = ax[0][0])\n",
    "sns.boxplot(data = df, x = 'Exited', y = 'Age', ax = ax[0][1])\n",
    "sns.boxplot(data = df, x = 'Exited', y = 'Balance', ax = ax[1][0])\n",
    "sns.boxplot(data = df, x = 'Exited', y = 'EstimatedSalary', ax = ax[1][1])\n",
    "\n",
    "plt.tight_layout()\n",
    "plt.show()"
   ]
  },
  {
   "cell_type": "markdown",
   "id": "28f87442",
   "metadata": {
    "papermill": {
     "duration": 0.020982,
     "end_time": "2024-05-13T16:47:44.439692",
     "exception": false,
     "start_time": "2024-05-13T16:47:44.418710",
     "status": "completed"
    },
    "tags": []
   },
   "source": [
    "## Insights from the above plots:\n",
    "* CreditScore:- No significant difference seen in the mean creditscore for churning v/s not churning.\n",
    "* Age:- Churning is mostly seen in people with older age.\n",
    "* balance:- churning is mostly in the customers with higher average bank balance.\n",
    "* estimatedSalary:- no significant differnce seen in the estimatedSalary b/w the churning and non-churning people."
   ]
  },
  {
   "cell_type": "markdown",
   "id": "6f4230ba",
   "metadata": {
    "papermill": {
     "duration": 0.020644,
     "end_time": "2024-05-13T16:47:44.481176",
     "exception": false,
     "start_time": "2024-05-13T16:47:44.460532",
     "status": "completed"
    },
    "tags": []
   },
   "source": [
    "## Pearson Co-relation: Heat Map"
   ]
  },
  {
   "cell_type": "code",
   "execution_count": 17,
   "id": "d26d81a7",
   "metadata": {
    "execution": {
     "iopub.execute_input": "2024-05-13T16:47:44.529548Z",
     "iopub.status.busy": "2024-05-13T16:47:44.529147Z",
     "iopub.status.idle": "2024-05-13T16:47:45.206914Z",
     "shell.execute_reply": "2024-05-13T16:47:45.205525Z"
    },
    "papermill": {
     "duration": 0.707242,
     "end_time": "2024-05-13T16:47:45.209879",
     "exception": false,
     "start_time": "2024-05-13T16:47:44.502637",
     "status": "completed"
    },
    "tags": []
   },
   "outputs": [
    {
     "data": {
      "image/png": "[encoded data removed]",
      "text/plain": [
       "<Figure size 2000x1200 with 2 Axes>"
      ]
     },
     "metadata": {},
     "output_type": "display_data"
    }
   ],
   "source": [
    "numeric_df = df.select_dtypes(include=['float64', 'int64'])  # Select numeric columns\n",
    "\n",
    "plt.figure(figsize=(20, 12))\n",
    "correlation = numeric_df.corr()\n",
    "\n",
    "sns.heatmap(correlation, linewidths=1, annot=True, fmt=\".2f\")\n",
    "plt.show()"
   ]
  },
  {
   "cell_type": "code",
   "execution_count": 18,
   "id": "fff6b38d",
   "metadata": {
    "execution": {
     "iopub.execute_input": "2024-05-13T16:47:45.259158Z",
     "iopub.status.busy": "2024-05-13T16:47:45.258327Z",
     "iopub.status.idle": "2024-05-13T16:47:45.271927Z",
     "shell.execute_reply": "2024-05-13T16:47:45.270900Z"
    },
    "papermill": {
     "duration": 0.040618,
     "end_time": "2024-05-13T16:47:45.274770",
     "exception": false,
     "start_time": "2024-05-13T16:47:45.234152",
     "status": "completed"
    },
    "tags": []
   },
   "outputs": [],
   "source": [
    "# Before moving to model building let's convert some categorical features to numeric.\n",
    "df = pd.get_dummies(df, columns=['Geography', 'Gender'], drop_first=True, dtype=int)"
   ]
  },
  {
   "cell_type": "code",
   "execution_count": 19,
   "id": "8427fed8",
   "metadata": {
    "execution": {
     "iopub.execute_input": "2024-05-13T16:47:45.324094Z",
     "iopub.status.busy": "2024-05-13T16:47:45.323663Z",
     "iopub.status.idle": "2024-05-13T16:47:45.340594Z",
     "shell.execute_reply": "2024-05-13T16:47:45.339066Z"
    },
    "papermill": {
     "duration": 0.044277,
     "end_time": "2024-05-13T16:47:45.343391",
     "exception": false,
     "start_time": "2024-05-13T16:47:45.299114",
     "status": "completed"
    },
    "tags": []
   },
   "outputs": [
    {
     "data": {
      "text/html": [
       "<div>\n",
       "<style scoped>\n",
       "    .dataframe tbody tr th:only-of-type {\n",
       "        vertical-align: middle;\n",
       "    }\n",
       "\n",
       "    .dataframe tbody tr th {\n",
       "        vertical-align: top;\n",
       "    }\n",
       "\n",
       "    .dataframe thead th {\n",
       "        text-align: right;\n",
       "    }\n",
       "</style>\n",
       "<table border=\"1\" class=\"dataframe\">\n",
       "  <thead>\n",
       "    <tr style=\"text-align: right;\">\n",
       "      <th></th>\n",
       "      <th>CreditScore</th>\n",
       "      <th>Age</th>\n",
       "      <th>Tenure</th>\n",
       "      <th>Balance</th>\n",
       "      <th>NumOfProducts</th>\n",
       "      <th>HasCrCard</th>\n",
       "      <th>IsActiveMember</th>\n",
       "      <th>EstimatedSalary</th>\n",
       "      <th>Exited</th>\n",
       "      <th>Geography_Germany</th>\n",
       "      <th>Geography_Spain</th>\n",
       "      <th>Gender_Male</th>\n",
       "    </tr>\n",
       "  </thead>\n",
       "  <tbody>\n",
       "    <tr>\n",
       "      <th>0</th>\n",
       "      <td>619</td>\n",
       "      <td>42</td>\n",
       "      <td>2</td>\n",
       "      <td>0.00</td>\n",
       "      <td>1</td>\n",
       "      <td>1</td>\n",
       "      <td>1</td>\n",
       "      <td>101348.88</td>\n",
       "      <td>1</td>\n",
       "      <td>0</td>\n",
       "      <td>0</td>\n",
       "      <td>0</td>\n",
       "    </tr>\n",
       "    <tr>\n",
       "      <th>1</th>\n",
       "      <td>608</td>\n",
       "      <td>41</td>\n",
       "      <td>1</td>\n",
       "      <td>83807.86</td>\n",
       "      <td>1</td>\n",
       "      <td>0</td>\n",
       "      <td>1</td>\n",
       "      <td>112542.58</td>\n",
       "      <td>0</td>\n",
       "      <td>0</td>\n",
       "      <td>1</td>\n",
       "      <td>0</td>\n",
       "    </tr>\n",
       "    <tr>\n",
       "      <th>2</th>\n",
       "      <td>502</td>\n",
       "      <td>42</td>\n",
       "      <td>8</td>\n",
       "      <td>159660.80</td>\n",
       "      <td>3</td>\n",
       "      <td>1</td>\n",
       "      <td>0</td>\n",
       "      <td>113931.57</td>\n",
       "      <td>1</td>\n",
       "      <td>0</td>\n",
       "      <td>0</td>\n",
       "      <td>0</td>\n",
       "    </tr>\n",
       "    <tr>\n",
       "      <th>3</th>\n",
       "      <td>699</td>\n",
       "      <td>39</td>\n",
       "      <td>1</td>\n",
       "      <td>0.00</td>\n",
       "      <td>2</td>\n",
       "      <td>0</td>\n",
       "      <td>0</td>\n",
       "      <td>93826.63</td>\n",
       "      <td>0</td>\n",
       "      <td>0</td>\n",
       "      <td>0</td>\n",
       "      <td>0</td>\n",
       "    </tr>\n",
       "    <tr>\n",
       "      <th>4</th>\n",
       "      <td>850</td>\n",
       "      <td>43</td>\n",
       "      <td>2</td>\n",
       "      <td>125510.82</td>\n",
       "      <td>1</td>\n",
       "      <td>1</td>\n",
       "      <td>1</td>\n",
       "      <td>79084.10</td>\n",
       "      <td>0</td>\n",
       "      <td>0</td>\n",
       "      <td>1</td>\n",
       "      <td>0</td>\n",
       "    </tr>\n",
       "  </tbody>\n",
       "</table>\n",
       "</div>"
      ],
      "text/plain": [
       "   CreditScore  Age  Tenure    Balance  NumOfProducts  HasCrCard  \\\n",
       "0          619   42       2       0.00              1          1   \n",
       "1          608   41       1   83807.86              1          0   \n",
       "2          502   42       8  159660.80              3          1   \n",
       "3          699   39       1       0.00              2          0   \n",
       "4          850   43       2  125510.82              1          1   \n",
       "\n",
       "   IsActiveMember  EstimatedSalary  Exited  Geography_Germany  \\\n",
       "0               1        101348.88       1                  0   \n",
       "1               1        112542.58       0                  0   \n",
       "2               0        113931.57       1                  0   \n",
       "3               0         93826.63       0                  0   \n",
       "4               1         79084.10       0                  0   \n",
       "\n",
       "   Geography_Spain  Gender_Male  \n",
       "0                0            0  \n",
       "1                1            0  \n",
       "2                0            0  \n",
       "3                0            0  \n",
       "4                1            0  "
      ]
     },
     "execution_count": 19,
     "metadata": {},
     "output_type": "execute_result"
    }
   ],
   "source": [
    "df.head()"
   ]
  },
  {
   "cell_type": "markdown",
   "id": "0f2d7726",
   "metadata": {
    "papermill": {
     "duration": 0.023533,
     "end_time": "2024-05-13T16:47:45.389996",
     "exception": false,
     "start_time": "2024-05-13T16:47:45.366463",
     "status": "completed"
    },
    "tags": []
   },
   "source": [
    "# Model Building"
   ]
  },
  {
   "cell_type": "code",
   "execution_count": 20,
   "id": "307b9d67",
   "metadata": {
    "execution": {
     "iopub.execute_input": "2024-05-13T16:47:45.438050Z",
     "iopub.status.busy": "2024-05-13T16:47:45.437605Z",
     "iopub.status.idle": "2024-05-13T16:47:45.444841Z",
     "shell.execute_reply": "2024-05-13T16:47:45.443341Z"
    },
    "papermill": {
     "duration": 0.034081,
     "end_time": "2024-05-13T16:47:45.447384",
     "exception": false,
     "start_time": "2024-05-13T16:47:45.413303",
     "status": "completed"
    },
    "tags": []
   },
   "outputs": [],
   "source": [
    "X = df.drop(columns = ['Exited'])\n",
    "y = df['Exited']"
   ]
  },
  {
   "cell_type": "code",
   "execution_count": 21,
   "id": "e289dbd6",
   "metadata": {
    "execution": {
     "iopub.execute_input": "2024-05-13T16:47:45.496855Z",
     "iopub.status.busy": "2024-05-13T16:47:45.496367Z",
     "iopub.status.idle": "2024-05-13T16:47:45.514164Z",
     "shell.execute_reply": "2024-05-13T16:47:45.512761Z"
    },
    "papermill": {
     "duration": 0.045515,
     "end_time": "2024-05-13T16:47:45.516712",
     "exception": false,
     "start_time": "2024-05-13T16:47:45.471197",
     "status": "completed"
    },
    "tags": []
   },
   "outputs": [
    {
     "data": {
      "text/html": [
       "<div>\n",
       "<style scoped>\n",
       "    .dataframe tbody tr th:only-of-type {\n",
       "        vertical-align: middle;\n",
       "    }\n",
       "\n",
       "    .dataframe tbody tr th {\n",
       "        vertical-align: top;\n",
       "    }\n",
       "\n",
       "    .dataframe thead th {\n",
       "        text-align: right;\n",
       "    }\n",
       "</style>\n",
       "<table border=\"1\" class=\"dataframe\">\n",
       "  <thead>\n",
       "    <tr style=\"text-align: right;\">\n",
       "      <th></th>\n",
       "      <th>CreditScore</th>\n",
       "      <th>Age</th>\n",
       "      <th>Tenure</th>\n",
       "      <th>Balance</th>\n",
       "      <th>NumOfProducts</th>\n",
       "      <th>HasCrCard</th>\n",
       "      <th>IsActiveMember</th>\n",
       "      <th>EstimatedSalary</th>\n",
       "      <th>Geography_Germany</th>\n",
       "      <th>Geography_Spain</th>\n",
       "      <th>Gender_Male</th>\n",
       "    </tr>\n",
       "  </thead>\n",
       "  <tbody>\n",
       "    <tr>\n",
       "      <th>0</th>\n",
       "      <td>619</td>\n",
       "      <td>42</td>\n",
       "      <td>2</td>\n",
       "      <td>0.00</td>\n",
       "      <td>1</td>\n",
       "      <td>1</td>\n",
       "      <td>1</td>\n",
       "      <td>101348.88</td>\n",
       "      <td>0</td>\n",
       "      <td>0</td>\n",
       "      <td>0</td>\n",
       "    </tr>\n",
       "    <tr>\n",
       "      <th>1</th>\n",
       "      <td>608</td>\n",
       "      <td>41</td>\n",
       "      <td>1</td>\n",
       "      <td>83807.86</td>\n",
       "      <td>1</td>\n",
       "      <td>0</td>\n",
       "      <td>1</td>\n",
       "      <td>112542.58</td>\n",
       "      <td>0</td>\n",
       "      <td>1</td>\n",
       "      <td>0</td>\n",
       "    </tr>\n",
       "    <tr>\n",
       "      <th>2</th>\n",
       "      <td>502</td>\n",
       "      <td>42</td>\n",
       "      <td>8</td>\n",
       "      <td>159660.80</td>\n",
       "      <td>3</td>\n",
       "      <td>1</td>\n",
       "      <td>0</td>\n",
       "      <td>113931.57</td>\n",
       "      <td>0</td>\n",
       "      <td>0</td>\n",
       "      <td>0</td>\n",
       "    </tr>\n",
       "    <tr>\n",
       "      <th>3</th>\n",
       "      <td>699</td>\n",
       "      <td>39</td>\n",
       "      <td>1</td>\n",
       "      <td>0.00</td>\n",
       "      <td>2</td>\n",
       "      <td>0</td>\n",
       "      <td>0</td>\n",
       "      <td>93826.63</td>\n",
       "      <td>0</td>\n",
       "      <td>0</td>\n",
       "      <td>0</td>\n",
       "    </tr>\n",
       "    <tr>\n",
       "      <th>4</th>\n",
       "      <td>850</td>\n",
       "      <td>43</td>\n",
       "      <td>2</td>\n",
       "      <td>125510.82</td>\n",
       "      <td>1</td>\n",
       "      <td>1</td>\n",
       "      <td>1</td>\n",
       "      <td>79084.10</td>\n",
       "      <td>0</td>\n",
       "      <td>1</td>\n",
       "      <td>0</td>\n",
       "    </tr>\n",
       "  </tbody>\n",
       "</table>\n",
       "</div>"
      ],
      "text/plain": [
       "   CreditScore  Age  Tenure    Balance  NumOfProducts  HasCrCard  \\\n",
       "0          619   42       2       0.00              1          1   \n",
       "1          608   41       1   83807.86              1          0   \n",
       "2          502   42       8  159660.80              3          1   \n",
       "3          699   39       1       0.00              2          0   \n",
       "4          850   43       2  125510.82              1          1   \n",
       "\n",
       "   IsActiveMember  EstimatedSalary  Geography_Germany  Geography_Spain  \\\n",
       "0               1        101348.88                  0                0   \n",
       "1               1        112542.58                  0                1   \n",
       "2               0        113931.57                  0                0   \n",
       "3               0         93826.63                  0                0   \n",
       "4               1         79084.10                  0                1   \n",
       "\n",
       "   Gender_Male  \n",
       "0            0  \n",
       "1            0  \n",
       "2            0  \n",
       "3            0  \n",
       "4            0  "
      ]
     },
     "execution_count": 21,
     "metadata": {},
     "output_type": "execute_result"
    }
   ],
   "source": [
    "X.head()"
   ]
  },
  {
   "cell_type": "code",
   "execution_count": 22,
   "id": "f1202253",
   "metadata": {
    "execution": {
     "iopub.execute_input": "2024-05-13T16:47:45.566026Z",
     "iopub.status.busy": "2024-05-13T16:47:45.565621Z",
     "iopub.status.idle": "2024-05-13T16:47:45.866293Z",
     "shell.execute_reply": "2024-05-13T16:47:45.864603Z"
    },
    "papermill": {
     "duration": 0.329183,
     "end_time": "2024-05-13T16:47:45.869456",
     "exception": false,
     "start_time": "2024-05-13T16:47:45.540273",
     "status": "completed"
    },
    "tags": []
   },
   "outputs": [],
   "source": [
    "# before scaling the data, we need to make train test split:\n",
    "from sklearn.model_selection import train_test_split\n",
    "X_train, X_test, y_train, y_test = train_test_split(X, y, test_size=0.2, random_state=1)"
   ]
  },
  {
   "cell_type": "code",
   "execution_count": 23,
   "id": "5ee34b17",
   "metadata": {
    "execution": {
     "iopub.execute_input": "2024-05-13T16:47:45.921074Z",
     "iopub.status.busy": "2024-05-13T16:47:45.920602Z",
     "iopub.status.idle": "2024-05-13T16:47:45.928962Z",
     "shell.execute_reply": "2024-05-13T16:47:45.927703Z"
    },
    "papermill": {
     "duration": 0.038341,
     "end_time": "2024-05-13T16:47:45.931581",
     "exception": false,
     "start_time": "2024-05-13T16:47:45.893240",
     "status": "completed"
    },
    "tags": []
   },
   "outputs": [
    {
     "data": {
      "text/plain": [
       "(8000, 11)"
      ]
     },
     "execution_count": 23,
     "metadata": {},
     "output_type": "execute_result"
    }
   ],
   "source": [
    "X_train.shape"
   ]
  },
  {
   "cell_type": "code",
   "execution_count": 24,
   "id": "2f5ecf2c",
   "metadata": {
    "execution": {
     "iopub.execute_input": "2024-05-13T16:47:45.980393Z",
     "iopub.status.busy": "2024-05-13T16:47:45.979980Z",
     "iopub.status.idle": "2024-05-13T16:47:45.995246Z",
     "shell.execute_reply": "2024-05-13T16:47:45.993915Z"
    },
    "papermill": {
     "duration": 0.042723,
     "end_time": "2024-05-13T16:47:45.998045",
     "exception": false,
     "start_time": "2024-05-13T16:47:45.955322",
     "status": "completed"
    },
    "tags": []
   },
   "outputs": [],
   "source": [
    "# Scaling:\n",
    "from sklearn.preprocessing import StandardScaler\n",
    "sc = StandardScaler()\n",
    "X_train_scaled = sc.fit_transform(X_train)\n",
    "X_test_scaled = sc.transform(X_test)"
   ]
  },
  {
   "cell_type": "code",
   "execution_count": 25,
   "id": "18184eb2",
   "metadata": {
    "execution": {
     "iopub.execute_input": "2024-05-13T16:47:46.049104Z",
     "iopub.status.busy": "2024-05-13T16:47:46.048684Z",
     "iopub.status.idle": "2024-05-13T16:47:46.058203Z",
     "shell.execute_reply": "2024-05-13T16:47:46.057239Z"
    },
    "papermill": {
     "duration": 0.039116,
     "end_time": "2024-05-13T16:47:46.060882",
     "exception": false,
     "start_time": "2024-05-13T16:47:46.021766",
     "status": "completed"
    },
    "tags": []
   },
   "outputs": [
    {
     "data": {
      "text/plain": [
       "(4.691595962954966, -3.106555112891288)"
      ]
     },
     "execution_count": 25,
     "metadata": {},
     "output_type": "execute_result"
    }
   ],
   "source": [
    "X_test_scaled.max(), X_test_scaled.min()"
   ]
  },
  {
   "cell_type": "code",
   "execution_count": 26,
   "id": "6423572c",
   "metadata": {
    "execution": {
     "iopub.execute_input": "2024-05-13T16:47:46.113024Z",
     "iopub.status.busy": "2024-05-13T16:47:46.112525Z",
     "iopub.status.idle": "2024-05-13T16:48:01.063201Z",
     "shell.execute_reply": "2024-05-13T16:48:01.061682Z"
    },
    "papermill": {
     "duration": 14.980904,
     "end_time": "2024-05-13T16:48:01.066289",
     "exception": false,
     "start_time": "2024-05-13T16:47:46.085385",
     "status": "completed"
    },
    "tags": []
   },
   "outputs": [
    {
     "name": "stderr",
     "output_type": "stream",
     "text": [
      "2024-05-13 16:47:48.507670: E external/local_xla/xla/stream_executor/cuda/cuda_dnn.cc:9261] Unable to register cuDNN factory: Attempting to register factory for plugin cuDNN when one has already been registered\n",
      "2024-05-13 16:47:48.507822: E external/local_xla/xla/stream_executor/cuda/cuda_fft.cc:607] Unable to register cuFFT factory: Attempting to register factory for plugin cuFFT when one has already been registered\n",
      "2024-05-13 16:47:48.685677: E external/local_xla/xla/stream_executor/cuda/cuda_blas.cc:1515] Unable to register cuBLAS factory: Attempting to register factory for plugin cuBLAS when one has already been registered\n"
     ]
    }
   ],
   "source": [
    "# Importing the tensorflow libraries.\n",
    "import tensorflow\n",
    "from tensorflow import keras\n",
    "from tensorflow.keras import Sequential\n",
    "from tensorflow.keras.layers import Dense"
   ]
  },
  {
   "cell_type": "code",
   "execution_count": 27,
   "id": "a6a11338",
   "metadata": {
    "execution": {
     "iopub.execute_input": "2024-05-13T16:48:01.115582Z",
     "iopub.status.busy": "2024-05-13T16:48:01.114819Z",
     "iopub.status.idle": "2024-05-13T16:48:01.214994Z",
     "shell.execute_reply": "2024-05-13T16:48:01.213807Z"
    },
    "papermill": {
     "duration": 0.1282,
     "end_time": "2024-05-13T16:48:01.217940",
     "exception": false,
     "start_time": "2024-05-13T16:48:01.089740",
     "status": "completed"
    },
    "tags": []
   },
   "outputs": [],
   "source": [
    "# creating an object of the class Sequential:\n",
    "model = Sequential()\n",
    "model.add(Dense(11, activation = 'relu', input_dim = 11)) #  input layer\n",
    "model.add(Dense(11,activation = 'relu' ))\n",
    "model.add(Dense(1, activation = 'sigmoid')) # output layer"
   ]
  },
  {
   "cell_type": "code",
   "execution_count": 28,
   "id": "ee528642",
   "metadata": {
    "execution": {
     "iopub.execute_input": "2024-05-13T16:48:01.269402Z",
     "iopub.status.busy": "2024-05-13T16:48:01.269013Z",
     "iopub.status.idle": "2024-05-13T16:48:01.294868Z",
     "shell.execute_reply": "2024-05-13T16:48:01.293724Z"
    },
    "papermill": {
     "duration": 0.054195,
     "end_time": "2024-05-13T16:48:01.297412",
     "exception": false,
     "start_time": "2024-05-13T16:48:01.243217",
     "status": "completed"
    },
    "tags": []
   },
   "outputs": [
    {
     "data": {
      "text/html": [
       "<pre style=\"white-space:pre;overflow-x:auto;line-height:normal;font-family:Menlo,'DejaVu Sans Mono',consolas,'Courier New',monospace\"><span style=\"font-weight: bold\">Model: \"sequential\"</span>\n",
       "</pre>\n"
      ],
      "text/plain": [
       "\u001b[1mModel: \"sequential\"\u001b[0m\n"
      ]
     },
     "metadata": {},
     "output_type": "display_data"
    },
    {
     "data": {
      "text/html": [
       "<pre style=\"white-space:pre;overflow-x:auto;line-height:normal;font-family:Menlo,'DejaVu Sans Mono',consolas,'Courier New',monospace\">┏━━━━━━━━━━━━━━━━━━━━━━━━━━━━━━━━━┳━━━━━━━━━━━━━━━━━━━━━━━━┳━━━━━━━━━━━━━━━┓\n",
       "┃<span style=\"font-weight: bold\"> Layer (type)                    </span>┃<span style=\"font-weight: bold\"> Output Shape           </span>┃<span style=\"font-weight: bold\">       Param # </span>┃\n",
       "┡━━━━━━━━━━━━━━━━━━━━━━━━━━━━━━━━━╇━━━━━━━━━━━━━━━━━━━━━━━━╇━━━━━━━━━━━━━━━┩\n",
       "│ dense (<span style=\"color: #0087ff; text-decoration-color: #0087ff\">Dense</span>)                   │ (<span style=\"color: #00d7ff; text-decoration-color: #00d7ff\">None</span>, <span style=\"color: #00af00; text-decoration-color: #00af00\">11</span>)             │           <span style=\"color: #00af00; text-decoration-color: #00af00\">132</span> │\n",
       "├─────────────────────────────────┼────────────────────────┼───────────────┤\n",
       "│ dense_1 (<span style=\"color: #0087ff; text-decoration-color: #0087ff\">Dense</span>)                 │ (<span style=\"color: #00d7ff; text-decoration-color: #00d7ff\">None</span>, <span style=\"color: #00af00; text-decoration-color: #00af00\">11</span>)             │           <span style=\"color: #00af00; text-decoration-color: #00af00\">132</span> │\n",
       "├─────────────────────────────────┼────────────────────────┼───────────────┤\n",
       "│ dense_2 (<span style=\"color: #0087ff; text-decoration-color: #0087ff\">Dense</span>)                 │ (<span style=\"color: #00d7ff; text-decoration-color: #00d7ff\">None</span>, <span style=\"color: #00af00; text-decoration-color: #00af00\">1</span>)              │            <span style=\"color: #00af00; text-decoration-color: #00af00\">12</span> │\n",
       "└─────────────────────────────────┴────────────────────────┴───────────────┘\n",
       "</pre>\n"
      ],
      "text/plain": [
       "┏━━━━━━━━━━━━━━━━━━━━━━━━━━━━━━━━━┳━━━━━━━━━━━━━━━━━━━━━━━━┳━━━━━━━━━━━━━━━┓\n",
       "┃\u001b[1m \u001b[0m\u001b[1mLayer (type)                   \u001b[0m\u001b[1m \u001b[0m┃\u001b[1m \u001b[0m\u001b[1mOutput Shape          \u001b[0m\u001b[1m \u001b[0m┃\u001b[1m \u001b[0m\u001b[1m      Param #\u001b[0m\u001b[1m \u001b[0m┃\n",
       "┡━━━━━━━━━━━━━━━━━━━━━━━━━━━━━━━━━╇━━━━━━━━━━━━━━━━━━━━━━━━╇━━━━━━━━━━━━━━━┩\n",
       "│ dense (\u001b[38;5;33mDense\u001b[0m)                   │ (\u001b[38;5;45mNone\u001b[0m, \u001b[38;5;34m11\u001b[0m)             │           \u001b[38;5;34m132\u001b[0m │\n",
       "├─────────────────────────────────┼────────────────────────┼───────────────┤\n",
       "│ dense_1 (\u001b[38;5;33mDense\u001b[0m)                 │ (\u001b[38;5;45mNone\u001b[0m, \u001b[38;5;34m11\u001b[0m)             │           \u001b[38;5;34m132\u001b[0m │\n",
       "├─────────────────────────────────┼────────────────────────┼───────────────┤\n",
       "│ dense_2 (\u001b[38;5;33mDense\u001b[0m)                 │ (\u001b[38;5;45mNone\u001b[0m, \u001b[38;5;34m1\u001b[0m)              │            \u001b[38;5;34m12\u001b[0m │\n",
       "└─────────────────────────────────┴────────────────────────┴───────────────┘\n"
      ]
     },
     "metadata": {},
     "output_type": "display_data"
    },
    {
     "data": {
      "text/html": [
       "<pre style=\"white-space:pre;overflow-x:auto;line-height:normal;font-family:Menlo,'DejaVu Sans Mono',consolas,'Courier New',monospace\"><span style=\"font-weight: bold\"> Total params: </span><span style=\"color: #00af00; text-decoration-color: #00af00\">276</span> (1.08 KB)\n",
       "</pre>\n"
      ],
      "text/plain": [
       "\u001b[1m Total params: \u001b[0m\u001b[38;5;34m276\u001b[0m (1.08 KB)\n"
      ]
     },
     "metadata": {},
     "output_type": "display_data"
    },
    {
     "data": {
      "text/html": [
       "<pre style=\"white-space:pre;overflow-x:auto;line-height:normal;font-family:Menlo,'DejaVu Sans Mono',consolas,'Courier New',monospace\"><span style=\"font-weight: bold\"> Trainable params: </span><span style=\"color: #00af00; text-decoration-color: #00af00\">276</span> (1.08 KB)\n",
       "</pre>\n"
      ],
      "text/plain": [
       "\u001b[1m Trainable params: \u001b[0m\u001b[38;5;34m276\u001b[0m (1.08 KB)\n"
      ]
     },
     "metadata": {},
     "output_type": "display_data"
    },
    {
     "data": {
      "text/html": [
       "<pre style=\"white-space:pre;overflow-x:auto;line-height:normal;font-family:Menlo,'DejaVu Sans Mono',consolas,'Courier New',monospace\"><span style=\"font-weight: bold\"> Non-trainable params: </span><span style=\"color: #00af00; text-decoration-color: #00af00\">0</span> (0.00 B)\n",
       "</pre>\n"
      ],
      "text/plain": [
       "\u001b[1m Non-trainable params: \u001b[0m\u001b[38;5;34m0\u001b[0m (0.00 B)\n"
      ]
     },
     "metadata": {},
     "output_type": "display_data"
    }
   ],
   "source": [
    "model.summary()"
   ]
  },
  {
   "cell_type": "markdown",
   "id": "84ddf711",
   "metadata": {
    "papermill": {
     "duration": 0.032041,
     "end_time": "2024-05-13T16:48:01.356086",
     "exception": false,
     "start_time": "2024-05-13T16:48:01.324045",
     "status": "completed"
    },
    "tags": []
   },
   "source": [
    "##### In total we have `total params = `, so while training model will find the values of all these parameters."
   ]
  },
  {
   "cell_type": "markdown",
   "id": "5e774ed9",
   "metadata": {
    "papermill": {
     "duration": 0.026321,
     "end_time": "2024-05-13T16:48:01.409291",
     "exception": false,
     "start_time": "2024-05-13T16:48:01.382970",
     "status": "completed"
    },
    "tags": []
   },
   "source": [
    "* Now Model compilation\n",
    "- Here we specify the `loss function`, `optimizer` i.e, gradient descnet or other"
   ]
  },
  {
   "cell_type": "code",
   "execution_count": 29,
   "id": "1fa8bcc8",
   "metadata": {
    "execution": {
     "iopub.execute_input": "2024-05-13T16:48:01.461168Z",
     "iopub.status.busy": "2024-05-13T16:48:01.460733Z",
     "iopub.status.idle": "2024-05-13T16:48:01.477166Z",
     "shell.execute_reply": "2024-05-13T16:48:01.475979Z"
    },
    "papermill": {
     "duration": 0.045313,
     "end_time": "2024-05-13T16:48:01.479820",
     "exception": false,
     "start_time": "2024-05-13T16:48:01.434507",
     "status": "completed"
    },
    "tags": []
   },
   "outputs": [],
   "source": [
    "model.compile(loss = 'binary_crossentropy', optimizer = 'Adam', metrics = ['accuracy'])"
   ]
  },
  {
   "cell_type": "code",
   "execution_count": 30,
   "id": "7013b0ca",
   "metadata": {
    "execution": {
     "iopub.execute_input": "2024-05-13T16:48:01.532426Z",
     "iopub.status.busy": "2024-05-13T16:48:01.532014Z",
     "iopub.status.idle": "2024-05-13T16:48:57.264415Z",
     "shell.execute_reply": "2024-05-13T16:48:57.263384Z"
    },
    "papermill": {
     "duration": 55.762207,
     "end_time": "2024-05-13T16:48:57.267186",
     "exception": false,
     "start_time": "2024-05-13T16:48:01.504979",
     "status": "completed"
    },
    "tags": []
   },
   "outputs": [
    {
     "name": "stdout",
     "output_type": "stream",
     "text": [
      "Epoch 1/100\n",
      "\u001b[1m200/200\u001b[0m \u001b[32m━━━━━━━━━━━━━━━━━━━━\u001b[0m\u001b[37m\u001b[0m \u001b[1m2s\u001b[0m 5ms/step - accuracy: 0.5733 - loss: 0.6712 - val_accuracy: 0.7981 - val_loss: 0.4960\n",
      "Epoch 2/100\n",
      "\u001b[1m200/200\u001b[0m \u001b[32m━━━━━━━━━━━━━━━━━━━━\u001b[0m\u001b[37m\u001b[0m \u001b[1m1s\u001b[0m 2ms/step - accuracy: 0.7963 - loss: 0.4747 - val_accuracy: 0.8069 - val_loss: 0.4529\n",
      "Epoch 3/100\n",
      "\u001b[1m200/200\u001b[0m \u001b[32m━━━━━━━━━━━━━━━━━━━━\u001b[0m\u001b[37m\u001b[0m \u001b[1m1s\u001b[0m 2ms/step - accuracy: 0.8112 - loss: 0.4354 - val_accuracy: 0.8125 - val_loss: 0.4353\n",
      "Epoch 4/100\n",
      "\u001b[1m200/200\u001b[0m \u001b[32m━━━━━━━━━━━━━━━━━━━━\u001b[0m\u001b[37m\u001b[0m \u001b[1m1s\u001b[0m 2ms/step - accuracy: 0.8155 - loss: 0.4320 - val_accuracy: 0.8206 - val_loss: 0.4210\n",
      "Epoch 5/100\n",
      "\u001b[1m200/200\u001b[0m \u001b[32m━━━━━━━━━━━━━━━━━━━━\u001b[0m\u001b[37m\u001b[0m \u001b[1m1s\u001b[0m 2ms/step - accuracy: 0.8225 - loss: 0.4141 - val_accuracy: 0.8281 - val_loss: 0.4056\n",
      "Epoch 6/100\n",
      "\u001b[1m200/200\u001b[0m \u001b[32m━━━━━━━━━━━━━━━━━━━━\u001b[0m\u001b[37m\u001b[0m \u001b[1m1s\u001b[0m 2ms/step - accuracy: 0.8343 - loss: 0.3951 - val_accuracy: 0.8381 - val_loss: 0.3884\n",
      "Epoch 7/100\n",
      "\u001b[1m200/200\u001b[0m \u001b[32m━━━━━━━━━━━━━━━━━━━━\u001b[0m\u001b[37m\u001b[0m \u001b[1m1s\u001b[0m 2ms/step - accuracy: 0.8422 - loss: 0.3761 - val_accuracy: 0.8475 - val_loss: 0.3740\n",
      "Epoch 8/100\n",
      "\u001b[1m200/200\u001b[0m \u001b[32m━━━━━━━━━━━━━━━━━━━━\u001b[0m\u001b[37m\u001b[0m \u001b[1m0s\u001b[0m 2ms/step - accuracy: 0.8598 - loss: 0.3536 - val_accuracy: 0.8487 - val_loss: 0.3625\n",
      "Epoch 9/100\n",
      "\u001b[1m200/200\u001b[0m \u001b[32m━━━━━━━━━━━━━━━━━━━━\u001b[0m\u001b[37m\u001b[0m \u001b[1m1s\u001b[0m 3ms/step - accuracy: 0.8527 - loss: 0.3476 - val_accuracy: 0.8531 - val_loss: 0.3579\n",
      "Epoch 10/100\n",
      "\u001b[1m200/200\u001b[0m \u001b[32m━━━━━━━━━━━━━━━━━━━━\u001b[0m\u001b[37m\u001b[0m \u001b[1m1s\u001b[0m 2ms/step - accuracy: 0.8581 - loss: 0.3530 - val_accuracy: 0.8531 - val_loss: 0.3533\n",
      "Epoch 11/100\n",
      "\u001b[1m200/200\u001b[0m \u001b[32m━━━━━━━━━━━━━━━━━━━━\u001b[0m\u001b[37m\u001b[0m \u001b[1m1s\u001b[0m 2ms/step - accuracy: 0.8590 - loss: 0.3472 - val_accuracy: 0.8537 - val_loss: 0.3513\n",
      "Epoch 12/100\n",
      "\u001b[1m200/200\u001b[0m \u001b[32m━━━━━━━━━━━━━━━━━━━━\u001b[0m\u001b[37m\u001b[0m \u001b[1m1s\u001b[0m 2ms/step - accuracy: 0.8591 - loss: 0.3415 - val_accuracy: 0.8544 - val_loss: 0.3500\n",
      "Epoch 13/100\n",
      "\u001b[1m200/200\u001b[0m \u001b[32m━━━━━━━━━━━━━━━━━━━━\u001b[0m\u001b[37m\u001b[0m \u001b[1m0s\u001b[0m 2ms/step - accuracy: 0.8543 - loss: 0.3429 - val_accuracy: 0.8550 - val_loss: 0.3490\n",
      "Epoch 14/100\n",
      "\u001b[1m200/200\u001b[0m \u001b[32m━━━━━━━━━━━━━━━━━━━━\u001b[0m\u001b[37m\u001b[0m \u001b[1m0s\u001b[0m 2ms/step - accuracy: 0.8671 - loss: 0.3356 - val_accuracy: 0.8550 - val_loss: 0.3488\n",
      "Epoch 15/100\n",
      "\u001b[1m200/200\u001b[0m \u001b[32m━━━━━━━━━━━━━━━━━━━━\u001b[0m\u001b[37m\u001b[0m \u001b[1m0s\u001b[0m 2ms/step - accuracy: 0.8529 - loss: 0.3569 - val_accuracy: 0.8550 - val_loss: 0.3493\n",
      "Epoch 16/100\n",
      "\u001b[1m200/200\u001b[0m \u001b[32m━━━━━━━━━━━━━━━━━━━━\u001b[0m\u001b[37m\u001b[0m \u001b[1m1s\u001b[0m 2ms/step - accuracy: 0.8644 - loss: 0.3323 - val_accuracy: 0.8525 - val_loss: 0.3455\n",
      "Epoch 17/100\n",
      "\u001b[1m200/200\u001b[0m \u001b[32m━━━━━━━━━━━━━━━━━━━━\u001b[0m\u001b[37m\u001b[0m \u001b[1m1s\u001b[0m 3ms/step - accuracy: 0.8632 - loss: 0.3277 - val_accuracy: 0.8556 - val_loss: 0.3454\n",
      "Epoch 18/100\n",
      "\u001b[1m200/200\u001b[0m \u001b[32m━━━━━━━━━━━━━━━━━━━━\u001b[0m\u001b[37m\u001b[0m \u001b[1m1s\u001b[0m 2ms/step - accuracy: 0.8571 - loss: 0.3403 - val_accuracy: 0.8556 - val_loss: 0.3453\n",
      "Epoch 19/100\n",
      "\u001b[1m200/200\u001b[0m \u001b[32m━━━━━━━━━━━━━━━━━━━━\u001b[0m\u001b[37m\u001b[0m \u001b[1m0s\u001b[0m 2ms/step - accuracy: 0.8590 - loss: 0.3387 - val_accuracy: 0.8550 - val_loss: 0.3452\n",
      "Epoch 20/100\n",
      "\u001b[1m200/200\u001b[0m \u001b[32m━━━━━━━━━━━━━━━━━━━━\u001b[0m\u001b[37m\u001b[0m \u001b[1m0s\u001b[0m 2ms/step - accuracy: 0.8597 - loss: 0.3378 - val_accuracy: 0.8569 - val_loss: 0.3457\n",
      "Epoch 21/100\n",
      "\u001b[1m200/200\u001b[0m \u001b[32m━━━━━━━━━━━━━━━━━━━━\u001b[0m\u001b[37m\u001b[0m \u001b[1m1s\u001b[0m 2ms/step - accuracy: 0.8654 - loss: 0.3334 - val_accuracy: 0.8581 - val_loss: 0.3458\n",
      "Epoch 22/100\n",
      "\u001b[1m200/200\u001b[0m \u001b[32m━━━━━━━━━━━━━━━━━━━━\u001b[0m\u001b[37m\u001b[0m \u001b[1m1s\u001b[0m 2ms/step - accuracy: 0.8658 - loss: 0.3290 - val_accuracy: 0.8544 - val_loss: 0.3457\n",
      "Epoch 23/100\n",
      "\u001b[1m200/200\u001b[0m \u001b[32m━━━━━━━━━━━━━━━━━━━━\u001b[0m\u001b[37m\u001b[0m \u001b[1m0s\u001b[0m 2ms/step - accuracy: 0.8618 - loss: 0.3341 - val_accuracy: 0.8537 - val_loss: 0.3439\n",
      "Epoch 24/100\n",
      "\u001b[1m200/200\u001b[0m \u001b[32m━━━━━━━━━━━━━━━━━━━━\u001b[0m\u001b[37m\u001b[0m \u001b[1m0s\u001b[0m 2ms/step - accuracy: 0.8513 - loss: 0.3378 - val_accuracy: 0.8525 - val_loss: 0.3443\n",
      "Epoch 25/100\n",
      "\u001b[1m200/200\u001b[0m \u001b[32m━━━━━━━━━━━━━━━━━━━━\u001b[0m\u001b[37m\u001b[0m \u001b[1m1s\u001b[0m 2ms/step - accuracy: 0.8602 - loss: 0.3344 - val_accuracy: 0.8512 - val_loss: 0.3433\n",
      "Epoch 26/100\n",
      "\u001b[1m200/200\u001b[0m \u001b[32m━━━━━━━━━━━━━━━━━━━━\u001b[0m\u001b[37m\u001b[0m \u001b[1m1s\u001b[0m 2ms/step - accuracy: 0.8547 - loss: 0.3386 - val_accuracy: 0.8531 - val_loss: 0.3442\n",
      "Epoch 27/100\n",
      "\u001b[1m200/200\u001b[0m \u001b[32m━━━━━━━━━━━━━━━━━━━━\u001b[0m\u001b[37m\u001b[0m \u001b[1m0s\u001b[0m 2ms/step - accuracy: 0.8585 - loss: 0.3288 - val_accuracy: 0.8562 - val_loss: 0.3436\n",
      "Epoch 28/100\n",
      "\u001b[1m200/200\u001b[0m \u001b[32m━━━━━━━━━━━━━━━━━━━━\u001b[0m\u001b[37m\u001b[0m \u001b[1m0s\u001b[0m 2ms/step - accuracy: 0.8578 - loss: 0.3362 - val_accuracy: 0.8544 - val_loss: 0.3427\n",
      "Epoch 29/100\n",
      "\u001b[1m200/200\u001b[0m \u001b[32m━━━━━━━━━━━━━━━━━━━━\u001b[0m\u001b[37m\u001b[0m \u001b[1m0s\u001b[0m 2ms/step - accuracy: 0.8642 - loss: 0.3253 - val_accuracy: 0.8531 - val_loss: 0.3421\n",
      "Epoch 30/100\n",
      "\u001b[1m200/200\u001b[0m \u001b[32m━━━━━━━━━━━━━━━━━━━━\u001b[0m\u001b[37m\u001b[0m \u001b[1m0s\u001b[0m 2ms/step - accuracy: 0.8620 - loss: 0.3348 - val_accuracy: 0.8544 - val_loss: 0.3414\n",
      "Epoch 31/100\n",
      "\u001b[1m200/200\u001b[0m \u001b[32m━━━━━━━━━━━━━━━━━━━━\u001b[0m\u001b[37m\u001b[0m \u001b[1m1s\u001b[0m 2ms/step - accuracy: 0.8577 - loss: 0.3353 - val_accuracy: 0.8550 - val_loss: 0.3435\n",
      "Epoch 32/100\n",
      "\u001b[1m200/200\u001b[0m \u001b[32m━━━━━━━━━━━━━━━━━━━━\u001b[0m\u001b[37m\u001b[0m \u001b[1m1s\u001b[0m 2ms/step - accuracy: 0.8617 - loss: 0.3333 - val_accuracy: 0.8562 - val_loss: 0.3425\n",
      "Epoch 33/100\n",
      "\u001b[1m200/200\u001b[0m \u001b[32m━━━━━━━━━━━━━━━━━━━━\u001b[0m\u001b[37m\u001b[0m \u001b[1m1s\u001b[0m 2ms/step - accuracy: 0.8677 - loss: 0.3279 - val_accuracy: 0.8569 - val_loss: 0.3414\n",
      "Epoch 34/100\n",
      "\u001b[1m200/200\u001b[0m \u001b[32m━━━━━━━━━━━━━━━━━━━━\u001b[0m\u001b[37m\u001b[0m \u001b[1m0s\u001b[0m 2ms/step - accuracy: 0.8705 - loss: 0.3127 - val_accuracy: 0.8544 - val_loss: 0.3415\n",
      "Epoch 35/100\n",
      "\u001b[1m200/200\u001b[0m \u001b[32m━━━━━━━━━━━━━━━━━━━━\u001b[0m\u001b[37m\u001b[0m \u001b[1m1s\u001b[0m 2ms/step - accuracy: 0.8645 - loss: 0.3336 - val_accuracy: 0.8556 - val_loss: 0.3418\n",
      "Epoch 36/100\n",
      "\u001b[1m200/200\u001b[0m \u001b[32m━━━━━━━━━━━━━━━━━━━━\u001b[0m\u001b[37m\u001b[0m \u001b[1m0s\u001b[0m 2ms/step - accuracy: 0.8642 - loss: 0.3222 - val_accuracy: 0.8531 - val_loss: 0.3431\n",
      "Epoch 37/100\n",
      "\u001b[1m200/200\u001b[0m \u001b[32m━━━━━━━━━━━━━━━━━━━━\u001b[0m\u001b[37m\u001b[0m \u001b[1m1s\u001b[0m 2ms/step - accuracy: 0.8652 - loss: 0.3225 - val_accuracy: 0.8562 - val_loss: 0.3404\n",
      "Epoch 38/100\n",
      "\u001b[1m200/200\u001b[0m \u001b[32m━━━━━━━━━━━━━━━━━━━━\u001b[0m\u001b[37m\u001b[0m \u001b[1m1s\u001b[0m 2ms/step - accuracy: 0.8601 - loss: 0.3328 - val_accuracy: 0.8550 - val_loss: 0.3416\n",
      "Epoch 39/100\n",
      "\u001b[1m200/200\u001b[0m \u001b[32m━━━━━━━━━━━━━━━━━━━━\u001b[0m\u001b[37m\u001b[0m \u001b[1m0s\u001b[0m 2ms/step - accuracy: 0.8629 - loss: 0.3239 - val_accuracy: 0.8544 - val_loss: 0.3418\n",
      "Epoch 40/100\n",
      "\u001b[1m200/200\u001b[0m \u001b[32m━━━━━━━━━━━━━━━━━━━━\u001b[0m\u001b[37m\u001b[0m \u001b[1m1s\u001b[0m 2ms/step - accuracy: 0.8565 - loss: 0.3341 - val_accuracy: 0.8556 - val_loss: 0.3412\n",
      "Epoch 41/100\n",
      "\u001b[1m200/200\u001b[0m \u001b[32m━━━━━━━━━━━━━━━━━━━━\u001b[0m\u001b[37m\u001b[0m \u001b[1m0s\u001b[0m 2ms/step - accuracy: 0.8640 - loss: 0.3282 - val_accuracy: 0.8519 - val_loss: 0.3421\n",
      "Epoch 42/100\n",
      "\u001b[1m200/200\u001b[0m \u001b[32m━━━━━━━━━━━━━━━━━━━━\u001b[0m\u001b[37m\u001b[0m \u001b[1m0s\u001b[0m 2ms/step - accuracy: 0.8618 - loss: 0.3298 - val_accuracy: 0.8531 - val_loss: 0.3411\n",
      "Epoch 43/100\n",
      "\u001b[1m200/200\u001b[0m \u001b[32m━━━━━━━━━━━━━━━━━━━━\u001b[0m\u001b[37m\u001b[0m \u001b[1m0s\u001b[0m 2ms/step - accuracy: 0.8752 - loss: 0.3080 - val_accuracy: 0.8562 - val_loss: 0.3414\n",
      "Epoch 44/100\n",
      "\u001b[1m200/200\u001b[0m \u001b[32m━━━━━━━━━━━━━━━━━━━━\u001b[0m\u001b[37m\u001b[0m \u001b[1m1s\u001b[0m 2ms/step - accuracy: 0.8614 - loss: 0.3326 - val_accuracy: 0.8550 - val_loss: 0.3416\n",
      "Epoch 45/100\n",
      "\u001b[1m200/200\u001b[0m \u001b[32m━━━━━━━━━━━━━━━━━━━━\u001b[0m\u001b[37m\u001b[0m \u001b[1m1s\u001b[0m 2ms/step - accuracy: 0.8578 - loss: 0.3286 - val_accuracy: 0.8537 - val_loss: 0.3426\n",
      "Epoch 46/100\n",
      "\u001b[1m200/200\u001b[0m \u001b[32m━━━━━━━━━━━━━━━━━━━━\u001b[0m\u001b[37m\u001b[0m \u001b[1m0s\u001b[0m 2ms/step - accuracy: 0.8629 - loss: 0.3305 - val_accuracy: 0.8581 - val_loss: 0.3409\n",
      "Epoch 47/100\n",
      "\u001b[1m200/200\u001b[0m \u001b[32m━━━━━━━━━━━━━━━━━━━━\u001b[0m\u001b[37m\u001b[0m \u001b[1m1s\u001b[0m 2ms/step - accuracy: 0.8618 - loss: 0.3276 - val_accuracy: 0.8562 - val_loss: 0.3412\n",
      "Epoch 48/100\n",
      "\u001b[1m200/200\u001b[0m \u001b[32m━━━━━━━━━━━━━━━━━━━━\u001b[0m\u001b[37m\u001b[0m \u001b[1m0s\u001b[0m 2ms/step - accuracy: 0.8648 - loss: 0.3155 - val_accuracy: 0.8587 - val_loss: 0.3411\n",
      "Epoch 49/100\n",
      "\u001b[1m200/200\u001b[0m \u001b[32m━━━━━━━━━━━━━━━━━━━━\u001b[0m\u001b[37m\u001b[0m \u001b[1m1s\u001b[0m 2ms/step - accuracy: 0.8702 - loss: 0.3144 - val_accuracy: 0.8525 - val_loss: 0.3419\n",
      "Epoch 50/100\n",
      "\u001b[1m200/200\u001b[0m \u001b[32m━━━━━━━━━━━━━━━━━━━━\u001b[0m\u001b[37m\u001b[0m \u001b[1m0s\u001b[0m 2ms/step - accuracy: 0.8604 - loss: 0.3307 - val_accuracy: 0.8575 - val_loss: 0.3403\n",
      "Epoch 51/100\n",
      "\u001b[1m200/200\u001b[0m \u001b[32m━━━━━━━━━━━━━━━━━━━━\u001b[0m\u001b[37m\u001b[0m \u001b[1m0s\u001b[0m 2ms/step - accuracy: 0.8561 - loss: 0.3387 - val_accuracy: 0.8531 - val_loss: 0.3413\n",
      "Epoch 52/100\n",
      "\u001b[1m200/200\u001b[0m \u001b[32m━━━━━━━━━━━━━━━━━━━━\u001b[0m\u001b[37m\u001b[0m \u001b[1m0s\u001b[0m 2ms/step - accuracy: 0.8686 - loss: 0.3288 - val_accuracy: 0.8550 - val_loss: 0.3403\n",
      "Epoch 53/100\n",
      "\u001b[1m200/200\u001b[0m \u001b[32m━━━━━━━━━━━━━━━━━━━━\u001b[0m\u001b[37m\u001b[0m \u001b[1m1s\u001b[0m 2ms/step - accuracy: 0.8623 - loss: 0.3252 - val_accuracy: 0.8531 - val_loss: 0.3408\n",
      "Epoch 54/100\n",
      "\u001b[1m200/200\u001b[0m \u001b[32m━━━━━━━━━━━━━━━━━━━━\u001b[0m\u001b[37m\u001b[0m \u001b[1m0s\u001b[0m 2ms/step - accuracy: 0.8580 - loss: 0.3309 - val_accuracy: 0.8537 - val_loss: 0.3404\n",
      "Epoch 55/100\n",
      "\u001b[1m200/200\u001b[0m \u001b[32m━━━━━━━━━━━━━━━━━━━━\u001b[0m\u001b[37m\u001b[0m \u001b[1m1s\u001b[0m 2ms/step - accuracy: 0.8604 - loss: 0.3296 - val_accuracy: 0.8556 - val_loss: 0.3399\n",
      "Epoch 56/100\n",
      "\u001b[1m200/200\u001b[0m \u001b[32m━━━━━━━━━━━━━━━━━━━━\u001b[0m\u001b[37m\u001b[0m \u001b[1m0s\u001b[0m 2ms/step - accuracy: 0.8581 - loss: 0.3273 - val_accuracy: 0.8531 - val_loss: 0.3410\n",
      "Epoch 57/100\n",
      "\u001b[1m200/200\u001b[0m \u001b[32m━━━━━━━━━━━━━━━━━━━━\u001b[0m\u001b[37m\u001b[0m \u001b[1m0s\u001b[0m 2ms/step - accuracy: 0.8653 - loss: 0.3253 - val_accuracy: 0.8531 - val_loss: 0.3435\n",
      "Epoch 58/100\n",
      "\u001b[1m200/200\u001b[0m \u001b[32m━━━━━━━━━━━━━━━━━━━━\u001b[0m\u001b[37m\u001b[0m \u001b[1m1s\u001b[0m 2ms/step - accuracy: 0.8643 - loss: 0.3195 - val_accuracy: 0.8544 - val_loss: 0.3409\n",
      "Epoch 59/100\n",
      "\u001b[1m200/200\u001b[0m \u001b[32m━━━━━━━━━━━━━━━━━━━━\u001b[0m\u001b[37m\u001b[0m \u001b[1m0s\u001b[0m 2ms/step - accuracy: 0.8578 - loss: 0.3369 - val_accuracy: 0.8537 - val_loss: 0.3402\n",
      "Epoch 60/100\n",
      "\u001b[1m200/200\u001b[0m \u001b[32m━━━━━━━━━━━━━━━━━━━━\u001b[0m\u001b[37m\u001b[0m \u001b[1m0s\u001b[0m 2ms/step - accuracy: 0.8623 - loss: 0.3277 - val_accuracy: 0.8525 - val_loss: 0.3407\n",
      "Epoch 61/100\n",
      "\u001b[1m200/200\u001b[0m \u001b[32m━━━━━━━━━━━━━━━━━━━━\u001b[0m\u001b[37m\u001b[0m \u001b[1m0s\u001b[0m 2ms/step - accuracy: 0.8621 - loss: 0.3249 - val_accuracy: 0.8550 - val_loss: 0.3403\n",
      "Epoch 62/100\n",
      "\u001b[1m200/200\u001b[0m \u001b[32m━━━━━━━━━━━━━━━━━━━━\u001b[0m\u001b[37m\u001b[0m \u001b[1m0s\u001b[0m 2ms/step - accuracy: 0.8663 - loss: 0.3169 - val_accuracy: 0.8562 - val_loss: 0.3393\n",
      "Epoch 63/100\n",
      "\u001b[1m200/200\u001b[0m \u001b[32m━━━━━━━━━━━━━━━━━━━━\u001b[0m\u001b[37m\u001b[0m \u001b[1m1s\u001b[0m 2ms/step - accuracy: 0.8592 - loss: 0.3298 - val_accuracy: 0.8562 - val_loss: 0.3396\n",
      "Epoch 64/100\n",
      "\u001b[1m200/200\u001b[0m \u001b[32m━━━━━━━━━━━━━━━━━━━━\u001b[0m\u001b[37m\u001b[0m \u001b[1m1s\u001b[0m 2ms/step - accuracy: 0.8534 - loss: 0.3476 - val_accuracy: 0.8581 - val_loss: 0.3416\n",
      "Epoch 65/100\n",
      "\u001b[1m200/200\u001b[0m \u001b[32m━━━━━━━━━━━━━━━━━━━━\u001b[0m\u001b[37m\u001b[0m \u001b[1m1s\u001b[0m 2ms/step - accuracy: 0.8578 - loss: 0.3350 - val_accuracy: 0.8556 - val_loss: 0.3401\n",
      "Epoch 66/100\n",
      "\u001b[1m200/200\u001b[0m \u001b[32m━━━━━━━━━━━━━━━━━━━━\u001b[0m\u001b[37m\u001b[0m \u001b[1m1s\u001b[0m 2ms/step - accuracy: 0.8623 - loss: 0.3254 - val_accuracy: 0.8519 - val_loss: 0.3403\n",
      "Epoch 67/100\n",
      "\u001b[1m200/200\u001b[0m \u001b[32m━━━━━━━━━━━━━━━━━━━━\u001b[0m\u001b[37m\u001b[0m \u001b[1m0s\u001b[0m 2ms/step - accuracy: 0.8631 - loss: 0.3234 - val_accuracy: 0.8525 - val_loss: 0.3406\n",
      "Epoch 68/100\n",
      "\u001b[1m200/200\u001b[0m \u001b[32m━━━━━━━━━━━━━━━━━━━━\u001b[0m\u001b[37m\u001b[0m \u001b[1m0s\u001b[0m 2ms/step - accuracy: 0.8604 - loss: 0.3265 - val_accuracy: 0.8556 - val_loss: 0.3397\n",
      "Epoch 69/100\n",
      "\u001b[1m200/200\u001b[0m \u001b[32m━━━━━━━━━━━━━━━━━━━━\u001b[0m\u001b[37m\u001b[0m \u001b[1m1s\u001b[0m 2ms/step - accuracy: 0.8625 - loss: 0.3285 - val_accuracy: 0.8519 - val_loss: 0.3408\n",
      "Epoch 70/100\n",
      "\u001b[1m200/200\u001b[0m \u001b[32m━━━━━━━━━━━━━━━━━━━━\u001b[0m\u001b[37m\u001b[0m \u001b[1m1s\u001b[0m 2ms/step - accuracy: 0.8646 - loss: 0.3225 - val_accuracy: 0.8575 - val_loss: 0.3402\n",
      "Epoch 71/100\n",
      "\u001b[1m200/200\u001b[0m \u001b[32m━━━━━━━━━━━━━━━━━━━━\u001b[0m\u001b[37m\u001b[0m \u001b[1m0s\u001b[0m 2ms/step - accuracy: 0.8625 - loss: 0.3228 - val_accuracy: 0.8556 - val_loss: 0.3407\n",
      "Epoch 72/100\n",
      "\u001b[1m200/200\u001b[0m \u001b[32m━━━━━━━━━━━━━━━━━━━━\u001b[0m\u001b[37m\u001b[0m \u001b[1m1s\u001b[0m 2ms/step - accuracy: 0.8644 - loss: 0.3312 - val_accuracy: 0.8569 - val_loss: 0.3410\n",
      "Epoch 73/100\n",
      "\u001b[1m200/200\u001b[0m \u001b[32m━━━━━━━━━━━━━━━━━━━━\u001b[0m\u001b[37m\u001b[0m \u001b[1m1s\u001b[0m 2ms/step - accuracy: 0.8609 - loss: 0.3325 - val_accuracy: 0.8537 - val_loss: 0.3412\n",
      "Epoch 74/100\n",
      "\u001b[1m200/200\u001b[0m \u001b[32m━━━━━━━━━━━━━━━━━━━━\u001b[0m\u001b[37m\u001b[0m \u001b[1m1s\u001b[0m 2ms/step - accuracy: 0.8727 - loss: 0.3132 - val_accuracy: 0.8562 - val_loss: 0.3401\n",
      "Epoch 75/100\n",
      "\u001b[1m200/200\u001b[0m \u001b[32m━━━━━━━━━━━━━━━━━━━━\u001b[0m\u001b[37m\u001b[0m \u001b[1m1s\u001b[0m 3ms/step - accuracy: 0.8648 - loss: 0.3238 - val_accuracy: 0.8562 - val_loss: 0.3403\n",
      "Epoch 76/100\n",
      "\u001b[1m200/200\u001b[0m \u001b[32m━━━━━━━━━━━━━━━━━━━━\u001b[0m\u001b[37m\u001b[0m \u001b[1m1s\u001b[0m 2ms/step - accuracy: 0.8653 - loss: 0.3213 - val_accuracy: 0.8562 - val_loss: 0.3401\n",
      "Epoch 77/100\n",
      "\u001b[1m200/200\u001b[0m \u001b[32m━━━━━━━━━━━━━━━━━━━━\u001b[0m\u001b[37m\u001b[0m \u001b[1m1s\u001b[0m 2ms/step - accuracy: 0.8669 - loss: 0.3196 - val_accuracy: 0.8537 - val_loss: 0.3414\n",
      "Epoch 78/100\n",
      "\u001b[1m200/200\u001b[0m \u001b[32m━━━━━━━━━━━━━━━━━━━━\u001b[0m\u001b[37m\u001b[0m \u001b[1m1s\u001b[0m 2ms/step - accuracy: 0.8627 - loss: 0.3233 - val_accuracy: 0.8537 - val_loss: 0.3406\n",
      "Epoch 79/100\n",
      "\u001b[1m200/200\u001b[0m \u001b[32m━━━━━━━━━━━━━━━━━━━━\u001b[0m\u001b[37m\u001b[0m \u001b[1m0s\u001b[0m 2ms/step - accuracy: 0.8618 - loss: 0.3233 - val_accuracy: 0.8556 - val_loss: 0.3415\n",
      "Epoch 80/100\n",
      "\u001b[1m200/200\u001b[0m \u001b[32m━━━━━━━━━━━━━━━━━━━━\u001b[0m\u001b[37m\u001b[0m \u001b[1m1s\u001b[0m 2ms/step - accuracy: 0.8596 - loss: 0.3274 - val_accuracy: 0.8550 - val_loss: 0.3408\n",
      "Epoch 81/100\n",
      "\u001b[1m200/200\u001b[0m \u001b[32m━━━━━━━━━━━━━━━━━━━━\u001b[0m\u001b[37m\u001b[0m \u001b[1m1s\u001b[0m 2ms/step - accuracy: 0.8617 - loss: 0.3268 - val_accuracy: 0.8575 - val_loss: 0.3399\n",
      "Epoch 82/100\n",
      "\u001b[1m200/200\u001b[0m \u001b[32m━━━━━━━━━━━━━━━━━━━━\u001b[0m\u001b[37m\u001b[0m \u001b[1m0s\u001b[0m 2ms/step - accuracy: 0.8551 - loss: 0.3435 - val_accuracy: 0.8525 - val_loss: 0.3413\n",
      "Epoch 83/100\n",
      "\u001b[1m200/200\u001b[0m \u001b[32m━━━━━━━━━━━━━━━━━━━━\u001b[0m\u001b[37m\u001b[0m \u001b[1m1s\u001b[0m 2ms/step - accuracy: 0.8651 - loss: 0.3198 - val_accuracy: 0.8556 - val_loss: 0.3403\n",
      "Epoch 84/100\n",
      "\u001b[1m200/200\u001b[0m \u001b[32m━━━━━━━━━━━━━━━━━━━━\u001b[0m\u001b[37m\u001b[0m \u001b[1m0s\u001b[0m 2ms/step - accuracy: 0.8602 - loss: 0.3277 - val_accuracy: 0.8537 - val_loss: 0.3419\n",
      "Epoch 85/100\n",
      "\u001b[1m200/200\u001b[0m \u001b[32m━━━━━━━━━━━━━━━━━━━━\u001b[0m\u001b[37m\u001b[0m \u001b[1m1s\u001b[0m 2ms/step - accuracy: 0.8620 - loss: 0.3239 - val_accuracy: 0.8506 - val_loss: 0.3418\n",
      "Epoch 86/100\n",
      "\u001b[1m200/200\u001b[0m \u001b[32m━━━━━━━━━━━━━━━━━━━━\u001b[0m\u001b[37m\u001b[0m \u001b[1m0s\u001b[0m 2ms/step - accuracy: 0.8687 - loss: 0.3192 - val_accuracy: 0.8562 - val_loss: 0.3403\n",
      "Epoch 87/100\n",
      "\u001b[1m200/200\u001b[0m \u001b[32m━━━━━━━━━━━━━━━━━━━━\u001b[0m\u001b[37m\u001b[0m \u001b[1m0s\u001b[0m 2ms/step - accuracy: 0.8590 - loss: 0.3255 - val_accuracy: 0.8562 - val_loss: 0.3415\n",
      "Epoch 88/100\n",
      "\u001b[1m200/200\u001b[0m \u001b[32m━━━━━━━━━━━━━━━━━━━━\u001b[0m\u001b[37m\u001b[0m \u001b[1m0s\u001b[0m 2ms/step - accuracy: 0.8725 - loss: 0.3102 - val_accuracy: 0.8519 - val_loss: 0.3417\n",
      "Epoch 89/100\n",
      "\u001b[1m200/200\u001b[0m \u001b[32m━━━━━━━━━━━━━━━━━━━━\u001b[0m\u001b[37m\u001b[0m \u001b[1m1s\u001b[0m 2ms/step - accuracy: 0.8685 - loss: 0.3192 - val_accuracy: 0.8562 - val_loss: 0.3407\n",
      "Epoch 90/100\n",
      "\u001b[1m200/200\u001b[0m \u001b[32m━━━━━━━━━━━━━━━━━━━━\u001b[0m\u001b[37m\u001b[0m \u001b[1m0s\u001b[0m 2ms/step - accuracy: 0.8646 - loss: 0.3257 - val_accuracy: 0.8569 - val_loss: 0.3408\n",
      "Epoch 91/100\n",
      "\u001b[1m200/200\u001b[0m \u001b[32m━━━━━━━━━━━━━━━━━━━━\u001b[0m\u001b[37m\u001b[0m \u001b[1m0s\u001b[0m 2ms/step - accuracy: 0.8714 - loss: 0.3039 - val_accuracy: 0.8531 - val_loss: 0.3425\n",
      "Epoch 92/100\n",
      "\u001b[1m200/200\u001b[0m \u001b[32m━━━━━━━━━━━━━━━━━━━━\u001b[0m\u001b[37m\u001b[0m \u001b[1m1s\u001b[0m 2ms/step - accuracy: 0.8634 - loss: 0.3200 - val_accuracy: 0.8550 - val_loss: 0.3414\n",
      "Epoch 93/100\n",
      "\u001b[1m200/200\u001b[0m \u001b[32m━━━━━━━━━━━━━━━━━━━━\u001b[0m\u001b[37m\u001b[0m \u001b[1m0s\u001b[0m 2ms/step - accuracy: 0.8690 - loss: 0.3226 - val_accuracy: 0.8531 - val_loss: 0.3422\n",
      "Epoch 94/100\n",
      "\u001b[1m200/200\u001b[0m \u001b[32m━━━━━━━━━━━━━━━━━━━━\u001b[0m\u001b[37m\u001b[0m \u001b[1m1s\u001b[0m 2ms/step - accuracy: 0.8743 - loss: 0.3140 - val_accuracy: 0.8550 - val_loss: 0.3409\n",
      "Epoch 95/100\n",
      "\u001b[1m200/200\u001b[0m \u001b[32m━━━━━━━━━━━━━━━━━━━━\u001b[0m\u001b[37m\u001b[0m \u001b[1m1s\u001b[0m 2ms/step - accuracy: 0.8607 - loss: 0.3242 - val_accuracy: 0.8525 - val_loss: 0.3427\n",
      "Epoch 96/100\n",
      "\u001b[1m200/200\u001b[0m \u001b[32m━━━━━━━━━━━━━━━━━━━━\u001b[0m\u001b[37m\u001b[0m \u001b[1m1s\u001b[0m 2ms/step - accuracy: 0.8595 - loss: 0.3322 - val_accuracy: 0.8525 - val_loss: 0.3415\n",
      "Epoch 97/100\n",
      "\u001b[1m200/200\u001b[0m \u001b[32m━━━━━━━━━━━━━━━━━━━━\u001b[0m\u001b[37m\u001b[0m \u001b[1m1s\u001b[0m 2ms/step - accuracy: 0.8693 - loss: 0.3146 - val_accuracy: 0.8525 - val_loss: 0.3421\n",
      "Epoch 98/100\n",
      "\u001b[1m200/200\u001b[0m \u001b[32m━━━━━━━━━━━━━━━━━━━━\u001b[0m\u001b[37m\u001b[0m \u001b[1m0s\u001b[0m 2ms/step - accuracy: 0.8672 - loss: 0.3175 - val_accuracy: 0.8531 - val_loss: 0.3414\n",
      "Epoch 99/100\n",
      "\u001b[1m200/200\u001b[0m \u001b[32m━━━━━━━━━━━━━━━━━━━━\u001b[0m\u001b[37m\u001b[0m \u001b[1m0s\u001b[0m 2ms/step - accuracy: 0.8597 - loss: 0.3328 - val_accuracy: 0.8519 - val_loss: 0.3431\n",
      "Epoch 100/100\n",
      "\u001b[1m200/200\u001b[0m \u001b[32m━━━━━━━━━━━━━━━━━━━━\u001b[0m\u001b[37m\u001b[0m \u001b[1m1s\u001b[0m 2ms/step - accuracy: 0.8681 - loss: 0.3187 - val_accuracy: 0.8512 - val_loss: 0.3435\n"
     ]
    }
   ],
   "source": [
    "history = model.fit(X_train_scaled, y_train, epochs = 100, validation_split = 0.2)\n",
    "# adding validation split "
   ]
  },
  {
   "cell_type": "code",
   "execution_count": 31,
   "id": "80899ff6",
   "metadata": {
    "execution": {
     "iopub.execute_input": "2024-05-13T16:48:57.487788Z",
     "iopub.status.busy": "2024-05-13T16:48:57.487395Z",
     "iopub.status.idle": "2024-05-13T16:48:57.499887Z",
     "shell.execute_reply": "2024-05-13T16:48:57.498905Z"
    },
    "papermill": {
     "duration": 0.126231,
     "end_time": "2024-05-13T16:48:57.502257",
     "exception": false,
     "start_time": "2024-05-13T16:48:57.376026",
     "status": "completed"
    },
    "tags": []
   },
   "outputs": [
    {
     "data": {
      "text/plain": [
       "[array([[-0.34014234],\n",
       "        [-1.1572711 ],\n",
       "        [-0.30819938],\n",
       "        [ 1.3208714 ],\n",
       "        [-0.37476918],\n",
       "        [ 0.7431754 ],\n",
       "        [ 0.22035359],\n",
       "        [ 0.7027995 ],\n",
       "        [ 1.0020533 ],\n",
       "        [ 0.68543863],\n",
       "        [-1.0395515 ]], dtype=float32),\n",
       " array([-0.24993166], dtype=float32)]"
      ]
     },
     "execution_count": 31,
     "metadata": {},
     "output_type": "execute_result"
    }
   ],
   "source": [
    "model.layers[2].get_weights()\n",
    "# 33 weights and 3 biases for layer 0\n",
    "# 3 weights and 1 bias for layer 1"
   ]
  },
  {
   "cell_type": "code",
   "execution_count": 32,
   "id": "2242a627",
   "metadata": {
    "execution": {
     "iopub.execute_input": "2024-05-13T16:48:57.727375Z",
     "iopub.status.busy": "2024-05-13T16:48:57.726278Z",
     "iopub.status.idle": "2024-05-13T16:48:57.996164Z",
     "shell.execute_reply": "2024-05-13T16:48:57.995054Z"
    },
    "papermill": {
     "duration": 0.386035,
     "end_time": "2024-05-13T16:48:57.999140",
     "exception": false,
     "start_time": "2024-05-13T16:48:57.613105",
     "status": "completed"
    },
    "tags": []
   },
   "outputs": [
    {
     "name": "stdout",
     "output_type": "stream",
     "text": [
      "\u001b[1m63/63\u001b[0m \u001b[32m━━━━━━━━━━━━━━━━━━━━\u001b[0m\u001b[37m\u001b[0m \u001b[1m0s\u001b[0m 2ms/step\n"
     ]
    }
   ],
   "source": [
    "# prediction:\n",
    "y_log = model.predict(X_test_scaled)"
   ]
  },
  {
   "cell_type": "code",
   "execution_count": 33,
   "id": "fb77f4b7",
   "metadata": {
    "execution": {
     "iopub.execute_input": "2024-05-13T16:48:58.231324Z",
     "iopub.status.busy": "2024-05-13T16:48:58.230062Z",
     "iopub.status.idle": "2024-05-13T16:48:58.238132Z",
     "shell.execute_reply": "2024-05-13T16:48:58.237007Z"
    },
    "papermill": {
     "duration": 0.128006,
     "end_time": "2024-05-13T16:48:58.240454",
     "exception": false,
     "start_time": "2024-05-13T16:48:58.112448",
     "status": "completed"
    },
    "tags": []
   },
   "outputs": [
    {
     "data": {
      "text/plain": [
       "array([[0.02731939],\n",
       "       [0.08164015],\n",
       "       [0.02662723],\n",
       "       ...,\n",
       "       [0.01216873],\n",
       "       [0.02631807],\n",
       "       [0.5083242 ]], dtype=float32)"
      ]
     },
     "execution_count": 33,
     "metadata": {},
     "output_type": "execute_result"
    }
   ],
   "source": [
    "y_log"
   ]
  },
  {
   "cell_type": "markdown",
   "id": "2f3dcef9",
   "metadata": {
    "papermill": {
     "duration": 0.109658,
     "end_time": "2024-05-13T16:48:58.461469",
     "exception": false,
     "start_time": "2024-05-13T16:48:58.351811",
     "status": "completed"
    },
    "tags": []
   },
   "source": [
    "These are the sigmoid values ie. probabilities so they needs to be converted to 0/1 based on a threshold decided by ROC/AOC curve\n",
    "\n",
    "For time being let's take threshold = `0.4`\n"
   ]
  },
  {
   "cell_type": "code",
   "execution_count": 34,
   "id": "54705cab",
   "metadata": {
    "execution": {
     "iopub.execute_input": "2024-05-13T16:48:58.688469Z",
     "iopub.status.busy": "2024-05-13T16:48:58.687404Z",
     "iopub.status.idle": "2024-05-13T16:48:58.693273Z",
     "shell.execute_reply": "2024-05-13T16:48:58.692244Z"
    },
    "papermill": {
     "duration": 0.122798,
     "end_time": "2024-05-13T16:48:58.695758",
     "exception": false,
     "start_time": "2024-05-13T16:48:58.572960",
     "status": "completed"
    },
    "tags": []
   },
   "outputs": [],
   "source": [
    "y_pred = np.where(y_log > 0.50, 1, 0)"
   ]
  },
  {
   "cell_type": "code",
   "execution_count": 35,
   "id": "f69502c6",
   "metadata": {
    "execution": {
     "iopub.execute_input": "2024-05-13T16:48:58.924989Z",
     "iopub.status.busy": "2024-05-13T16:48:58.924545Z",
     "iopub.status.idle": "2024-05-13T16:48:58.931543Z",
     "shell.execute_reply": "2024-05-13T16:48:58.930298Z"
    },
    "papermill": {
     "duration": 0.125041,
     "end_time": "2024-05-13T16:48:58.933958",
     "exception": false,
     "start_time": "2024-05-13T16:48:58.808917",
     "status": "completed"
    },
    "tags": []
   },
   "outputs": [
    {
     "data": {
      "text/plain": [
       "1"
      ]
     },
     "execution_count": 35,
     "metadata": {},
     "output_type": "execute_result"
    }
   ],
   "source": [
    "y_pred.max()"
   ]
  },
  {
   "cell_type": "markdown",
   "id": "0721f519",
   "metadata": {
    "execution": {
     "iopub.execute_input": "2024-05-13T16:30:04.481061Z",
     "iopub.status.busy": "2024-05-13T16:30:04.480645Z",
     "iopub.status.idle": "2024-05-13T16:30:04.488670Z",
     "shell.execute_reply": "2024-05-13T16:30:04.487241Z",
     "shell.execute_reply.started": "2024-05-13T16:30:04.481027Z"
    },
    "papermill": {
     "duration": 0.110282,
     "end_time": "2024-05-13T16:48:59.156175",
     "exception": false,
     "start_time": "2024-05-13T16:48:59.045893",
     "status": "completed"
    },
    "tags": []
   },
   "source": [
    "# Evaluation"
   ]
  },
  {
   "cell_type": "code",
   "execution_count": 36,
   "id": "bb59b4b4",
   "metadata": {
    "execution": {
     "iopub.execute_input": "2024-05-13T16:48:59.379731Z",
     "iopub.status.busy": "2024-05-13T16:48:59.379342Z",
     "iopub.status.idle": "2024-05-13T16:48:59.391040Z",
     "shell.execute_reply": "2024-05-13T16:48:59.390150Z"
    },
    "papermill": {
     "duration": 0.127295,
     "end_time": "2024-05-13T16:48:59.393172",
     "exception": false,
     "start_time": "2024-05-13T16:48:59.265877",
     "status": "completed"
    },
    "tags": []
   },
   "outputs": [
    {
     "data": {
      "text/plain": [
       "0.862"
      ]
     },
     "execution_count": 36,
     "metadata": {},
     "output_type": "execute_result"
    }
   ],
   "source": [
    "from sklearn.metrics import accuracy_score\n",
    "acc = accuracy_score(y_test, y_pred)\n",
    "acc\n",
    "# accuracy increased on adding more layers and changing the activation fun from sigmoid--> relu"
   ]
  },
  {
   "cell_type": "code",
   "execution_count": 37,
   "id": "a348d66c",
   "metadata": {
    "execution": {
     "iopub.execute_input": "2024-05-13T16:48:59.624926Z",
     "iopub.status.busy": "2024-05-13T16:48:59.623685Z",
     "iopub.status.idle": "2024-05-13T16:48:59.904071Z",
     "shell.execute_reply": "2024-05-13T16:48:59.902905Z"
    },
    "papermill": {
     "duration": 0.398866,
     "end_time": "2024-05-13T16:48:59.906712",
     "exception": false,
     "start_time": "2024-05-13T16:48:59.507846",
     "status": "completed"
    },
    "tags": []
   },
   "outputs": [
    {
     "data": {
      "text/plain": [
       "[<matplotlib.lines.Line2D at 0x7c7ea871f3d0>]"
      ]
     },
     "execution_count": 37,
     "metadata": {},
     "output_type": "execute_result"
    },
    {
     "data": {
      "image/png": "[encoded data removed]",
      "text/plain": [
       "<Figure size 640x480 with 1 Axes>"
      ]
     },
     "metadata": {},
     "output_type": "display_data"
    }
   ],
   "source": [
    "# let's plot the loss for each epochs.\n",
    "plt.plot(history.history['loss'])\n",
    "plt.plot(history.history['val_loss'])"
   ]
  },
  {
   "cell_type": "code",
   "execution_count": 38,
   "id": "29a5795b",
   "metadata": {
    "execution": {
     "iopub.execute_input": "2024-05-13T16:49:00.136328Z",
     "iopub.status.busy": "2024-05-13T16:49:00.135889Z",
     "iopub.status.idle": "2024-05-13T16:49:00.141185Z",
     "shell.execute_reply": "2024-05-13T16:49:00.139892Z"
    },
    "papermill": {
     "duration": 0.120606,
     "end_time": "2024-05-13T16:49:00.143575",
     "exception": false,
     "start_time": "2024-05-13T16:49:00.022969",
     "status": "completed"
    },
    "tags": []
   },
   "outputs": [],
   "source": [
    "# we can see that the loss for train and validation increased after initial few iterations."
   ]
  },
  {
   "cell_type": "markdown",
   "id": "63251f4d",
   "metadata": {
    "papermill": {
     "duration": 0.116071,
     "end_time": "2024-05-13T16:49:00.373370",
     "exception": false,
     "start_time": "2024-05-13T16:49:00.257299",
     "status": "completed"
    },
    "tags": []
   },
   "source": [
    "### plotting the accuracy"
   ]
  },
  {
   "cell_type": "code",
   "execution_count": 39,
   "id": "d11fc76b",
   "metadata": {
    "execution": {
     "iopub.execute_input": "2024-05-13T16:49:00.605706Z",
     "iopub.status.busy": "2024-05-13T16:49:00.604585Z",
     "iopub.status.idle": "2024-05-13T16:49:00.909031Z",
     "shell.execute_reply": "2024-05-13T16:49:00.907782Z"
    },
    "papermill": {
     "duration": 0.424095,
     "end_time": "2024-05-13T16:49:00.911697",
     "exception": false,
     "start_time": "2024-05-13T16:49:00.487602",
     "status": "completed"
    },
    "tags": []
   },
   "outputs": [
    {
     "data": {
      "text/plain": [
       "[<matplotlib.lines.Line2D at 0x7c7ea8158520>]"
      ]
     },
     "execution_count": 39,
     "metadata": {},
     "output_type": "execute_result"
    },
    {
     "data": {
      "image/png": "[encoded data removed]",
      "text/plain": [
       "<Figure size 640x480 with 1 Axes>"
      ]
     },
     "metadata": {},
     "output_type": "display_data"
    }
   ],
   "source": [
    "plt.plot(history.history['accuracy'])\n",
    "plt.plot(history.history['val_accuracy'])"
   ]
  },
  {
   "cell_type": "code",
   "execution_count": 40,
   "id": "39486afd",
   "metadata": {
    "execution": {
     "iopub.execute_input": "2024-05-13T16:49:01.144238Z",
     "iopub.status.busy": "2024-05-13T16:49:01.143795Z",
     "iopub.status.idle": "2024-05-13T16:49:01.148377Z",
     "shell.execute_reply": "2024-05-13T16:49:01.147261Z"
    },
    "papermill": {
     "duration": 0.125718,
     "end_time": "2024-05-13T16:49:01.150958",
     "exception": false,
     "start_time": "2024-05-13T16:49:01.025240",
     "status": "completed"
    },
    "tags": []
   },
   "outputs": [],
   "source": [
    "# in order to improve the accuracy, we need to add regularazition and perform better eda and add layers in more better way."
   ]
  },
  {
   "cell_type": "markdown",
   "id": "e285be0a",
   "metadata": {
    "papermill": {
     "duration": 0.114432,
     "end_time": "2024-05-13T16:49:01.377625",
     "exception": false,
     "start_time": "2024-05-13T16:49:01.263193",
     "status": "completed"
    },
    "tags": []
   },
   "source": [
    "Here our end goal was just to apply Artifician Neural Network.\n",
    "Of course, We can improve the accuracy in different number of ways."
   ]
  },
  {
   "cell_type": "code",
   "execution_count": null,
   "id": "fc356e61",
   "metadata": {
    "papermill": {
     "duration": 0.112654,
     "end_time": "2024-05-13T16:49:01.603847",
     "exception": false,
     "start_time": "2024-05-13T16:49:01.491193",
     "status": "completed"
    },
    "tags": []
   },
   "outputs": [],
   "source": []
  }
 ],
 "metadata": {
  "kaggle": {
   "accelerator": "none",
   "dataSources": [
    {
     "datasetId": 869651,
     "sourceId": 1481789,
     "sourceType": "datasetVersion"
    }
   ],
   "dockerImageVersionId": 30698,
   "isGpuEnabled": false,
   "isInternetEnabled": true,
   "language": "python",
   "sourceType": "notebook"
  },
  "kernelspec": {
   "display_name": "Python 3",
   "language": "python",
   "name": "python3"
  },
  "language_info": {
   "codemirror_mode": {
    "name": "ipython",
    "version": 3
   },
   "file_extension": ".py",
   "mimetype": "text/x-python",
   "name": "python",
   "nbconvert_exporter": "python",
   "pygments_lexer": "ipython3",
   "version": "3.10.13"
  },
  "papermill": {
   "default_parameters": {},
   "duration": 88.849389,
   "end_time": "2024-05-13T16:49:03.445362",
   "environment_variables": {},
   "exception": null,
   "input_path": "__notebook__.ipynb",
   "output_path": "__notebook__.ipynb",
   "parameters": {},
   "start_time": "2024-05-13T16:47:34.595973",
   "version": "2.5.0"
  }
 },
 "nbformat": 4,
 "nbformat_minor": 5
}
